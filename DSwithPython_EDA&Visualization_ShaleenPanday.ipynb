{
 "cells": [
  {
   "cell_type": "code",
   "execution_count": 1,
   "metadata": {},
   "outputs": [],
   "source": [
    "import numpy as np\n",
    "import pandas as pd\n",
    "import matplotlib.pyplot as plt\n",
    "import seaborn as sns\n",
    "%matplotlib inline"
   ]
  },
  {
   "cell_type": "code",
   "execution_count": 2,
   "metadata": {},
   "outputs": [
    {
     "name": "stderr",
     "output_type": "stream",
     "text": [
      "C:\\ProgramData\\Anaconda3\\lib\\site-packages\\IPython\\core\\interactiveshell.py:3146: DtypeWarning: Columns (48,49) have mixed types.Specify dtype option on import or set low_memory=False.\n",
      "  has_raised = await self.run_ast_nodes(code_ast.body, cell_name,\n"
     ]
    }
   ],
   "source": [
    "# 1. import data\n",
    "nyc_df = pd.read_csv('311_Service_Requests_from_2010_to_Present.csv')"
   ]
  },
  {
   "cell_type": "code",
   "execution_count": 3,
   "metadata": {},
   "outputs": [
    {
     "data": {
      "text/plain": [
       "(300698, 53)"
      ]
     },
     "execution_count": 3,
     "metadata": {},
     "output_type": "execute_result"
    }
   ],
   "source": [
    "nyc_df.shape"
   ]
  },
  {
   "cell_type": "code",
   "execution_count": 4,
   "metadata": {
    "jupyter": {
     "outputs_hidden": true
    }
   },
   "outputs": [
    {
     "name": "stdout",
     "output_type": "stream",
     "text": [
      "<class 'pandas.core.frame.DataFrame'>\n",
      "RangeIndex: 300698 entries, 0 to 300697\n",
      "Data columns (total 53 columns):\n",
      " #   Column                          Non-Null Count   Dtype  \n",
      "---  ------                          --------------   -----  \n",
      " 0   Unique Key                      300698 non-null  int64  \n",
      " 1   Created Date                    300698 non-null  object \n",
      " 2   Closed Date                     298534 non-null  object \n",
      " 3   Agency                          300698 non-null  object \n",
      " 4   Agency Name                     300698 non-null  object \n",
      " 5   Complaint Type                  300698 non-null  object \n",
      " 6   Descriptor                      294784 non-null  object \n",
      " 7   Location Type                   300567 non-null  object \n",
      " 8   Incident Zip                    298083 non-null  float64\n",
      " 9   Incident Address                256288 non-null  object \n",
      " 10  Street Name                     256288 non-null  object \n",
      " 11  Cross Street 1                  251419 non-null  object \n",
      " 12  Cross Street 2                  250919 non-null  object \n",
      " 13  Intersection Street 1           43858 non-null   object \n",
      " 14  Intersection Street 2           43362 non-null   object \n",
      " 15  Address Type                    297883 non-null  object \n",
      " 16  City                            298084 non-null  object \n",
      " 17  Landmark                        349 non-null     object \n",
      " 18  Facility Type                   298527 non-null  object \n",
      " 19  Status                          300698 non-null  object \n",
      " 20  Due Date                        300695 non-null  object \n",
      " 21  Resolution Description          300698 non-null  object \n",
      " 22  Resolution Action Updated Date  298511 non-null  object \n",
      " 23  Community Board                 300698 non-null  object \n",
      " 24  Borough                         300698 non-null  object \n",
      " 25  X Coordinate (State Plane)      297158 non-null  float64\n",
      " 26  Y Coordinate (State Plane)      297158 non-null  float64\n",
      " 27  Park Facility Name              300698 non-null  object \n",
      " 28  Park Borough                    300698 non-null  object \n",
      " 29  School Name                     300698 non-null  object \n",
      " 30  School Number                   300698 non-null  object \n",
      " 31  School Region                   300697 non-null  object \n",
      " 32  School Code                     300697 non-null  object \n",
      " 33  School Phone Number             300698 non-null  object \n",
      " 34  School Address                  300698 non-null  object \n",
      " 35  School City                     300698 non-null  object \n",
      " 36  School State                    300698 non-null  object \n",
      " 37  School Zip                      300697 non-null  object \n",
      " 38  School Not Found                300698 non-null  object \n",
      " 39  School or Citywide Complaint    0 non-null       float64\n",
      " 40  Vehicle Type                    0 non-null       float64\n",
      " 41  Taxi Company Borough            0 non-null       float64\n",
      " 42  Taxi Pick Up Location           0 non-null       float64\n",
      " 43  Bridge Highway Name             243 non-null     object \n",
      " 44  Bridge Highway Direction        243 non-null     object \n",
      " 45  Road Ramp                       213 non-null     object \n",
      " 46  Bridge Highway Segment          213 non-null     object \n",
      " 47  Garage Lot Name                 0 non-null       float64\n",
      " 48  Ferry Direction                 1 non-null       object \n",
      " 49  Ferry Terminal Name             2 non-null       object \n",
      " 50  Latitude                        297158 non-null  float64\n",
      " 51  Longitude                       297158 non-null  float64\n",
      " 52  Location                        297158 non-null  object \n",
      "dtypes: float64(10), int64(1), object(42)\n",
      "memory usage: 121.6+ MB\n"
     ]
    }
   ],
   "source": [
    "nyc_df.info()"
   ]
  },
  {
   "cell_type": "code",
   "execution_count": 5,
   "metadata": {
    "jupyter": {
     "outputs_hidden": true
    }
   },
   "outputs": [
    {
     "data": {
      "text/html": [
       "<div>\n",
       "<style scoped>\n",
       "    .dataframe tbody tr th:only-of-type {\n",
       "        vertical-align: middle;\n",
       "    }\n",
       "\n",
       "    .dataframe tbody tr th {\n",
       "        vertical-align: top;\n",
       "    }\n",
       "\n",
       "    .dataframe thead th {\n",
       "        text-align: right;\n",
       "    }\n",
       "</style>\n",
       "<table border=\"1\" class=\"dataframe\">\n",
       "  <thead>\n",
       "    <tr style=\"text-align: right;\">\n",
       "      <th></th>\n",
       "      <th>Unique Key</th>\n",
       "      <th>Created Date</th>\n",
       "      <th>Closed Date</th>\n",
       "      <th>Agency</th>\n",
       "      <th>Agency Name</th>\n",
       "      <th>Complaint Type</th>\n",
       "      <th>Descriptor</th>\n",
       "      <th>Location Type</th>\n",
       "      <th>Incident Zip</th>\n",
       "      <th>Incident Address</th>\n",
       "      <th>...</th>\n",
       "      <th>Bridge Highway Name</th>\n",
       "      <th>Bridge Highway Direction</th>\n",
       "      <th>Road Ramp</th>\n",
       "      <th>Bridge Highway Segment</th>\n",
       "      <th>Garage Lot Name</th>\n",
       "      <th>Ferry Direction</th>\n",
       "      <th>Ferry Terminal Name</th>\n",
       "      <th>Latitude</th>\n",
       "      <th>Longitude</th>\n",
       "      <th>Location</th>\n",
       "    </tr>\n",
       "  </thead>\n",
       "  <tbody>\n",
       "    <tr>\n",
       "      <th>0</th>\n",
       "      <td>32310363</td>\n",
       "      <td>12/31/2015 11:59:45 PM</td>\n",
       "      <td>01-01-16 0:55</td>\n",
       "      <td>NYPD</td>\n",
       "      <td>New York City Police Department</td>\n",
       "      <td>Noise - Street/Sidewalk</td>\n",
       "      <td>Loud Music/Party</td>\n",
       "      <td>Street/Sidewalk</td>\n",
       "      <td>10034.0</td>\n",
       "      <td>71 VERMILYEA AVENUE</td>\n",
       "      <td>...</td>\n",
       "      <td>NaN</td>\n",
       "      <td>NaN</td>\n",
       "      <td>NaN</td>\n",
       "      <td>NaN</td>\n",
       "      <td>NaN</td>\n",
       "      <td>NaN</td>\n",
       "      <td>NaN</td>\n",
       "      <td>40.865682</td>\n",
       "      <td>-73.923501</td>\n",
       "      <td>(40.86568153633767, -73.92350095571744)</td>\n",
       "    </tr>\n",
       "    <tr>\n",
       "      <th>1</th>\n",
       "      <td>32309934</td>\n",
       "      <td>12/31/2015 11:59:44 PM</td>\n",
       "      <td>01-01-16 1:26</td>\n",
       "      <td>NYPD</td>\n",
       "      <td>New York City Police Department</td>\n",
       "      <td>Blocked Driveway</td>\n",
       "      <td>No Access</td>\n",
       "      <td>Street/Sidewalk</td>\n",
       "      <td>11105.0</td>\n",
       "      <td>27-07 23 AVENUE</td>\n",
       "      <td>...</td>\n",
       "      <td>NaN</td>\n",
       "      <td>NaN</td>\n",
       "      <td>NaN</td>\n",
       "      <td>NaN</td>\n",
       "      <td>NaN</td>\n",
       "      <td>NaN</td>\n",
       "      <td>NaN</td>\n",
       "      <td>40.775945</td>\n",
       "      <td>-73.915094</td>\n",
       "      <td>(40.775945312321085, -73.91509393898605)</td>\n",
       "    </tr>\n",
       "    <tr>\n",
       "      <th>2</th>\n",
       "      <td>32309159</td>\n",
       "      <td>12/31/2015 11:59:29 PM</td>\n",
       "      <td>01-01-16 4:51</td>\n",
       "      <td>NYPD</td>\n",
       "      <td>New York City Police Department</td>\n",
       "      <td>Blocked Driveway</td>\n",
       "      <td>No Access</td>\n",
       "      <td>Street/Sidewalk</td>\n",
       "      <td>10458.0</td>\n",
       "      <td>2897 VALENTINE AVENUE</td>\n",
       "      <td>...</td>\n",
       "      <td>NaN</td>\n",
       "      <td>NaN</td>\n",
       "      <td>NaN</td>\n",
       "      <td>NaN</td>\n",
       "      <td>NaN</td>\n",
       "      <td>NaN</td>\n",
       "      <td>NaN</td>\n",
       "      <td>40.870325</td>\n",
       "      <td>-73.888525</td>\n",
       "      <td>(40.870324522111424, -73.88852464418646)</td>\n",
       "    </tr>\n",
       "    <tr>\n",
       "      <th>3</th>\n",
       "      <td>32305098</td>\n",
       "      <td>12/31/2015 11:57:46 PM</td>\n",
       "      <td>01-01-16 7:43</td>\n",
       "      <td>NYPD</td>\n",
       "      <td>New York City Police Department</td>\n",
       "      <td>Illegal Parking</td>\n",
       "      <td>Commercial Overnight Parking</td>\n",
       "      <td>Street/Sidewalk</td>\n",
       "      <td>10461.0</td>\n",
       "      <td>2940 BAISLEY AVENUE</td>\n",
       "      <td>...</td>\n",
       "      <td>NaN</td>\n",
       "      <td>NaN</td>\n",
       "      <td>NaN</td>\n",
       "      <td>NaN</td>\n",
       "      <td>NaN</td>\n",
       "      <td>NaN</td>\n",
       "      <td>NaN</td>\n",
       "      <td>40.835994</td>\n",
       "      <td>-73.828379</td>\n",
       "      <td>(40.83599404683083, -73.82837939584206)</td>\n",
       "    </tr>\n",
       "    <tr>\n",
       "      <th>4</th>\n",
       "      <td>32306529</td>\n",
       "      <td>12/31/2015 11:56:58 PM</td>\n",
       "      <td>01-01-16 3:24</td>\n",
       "      <td>NYPD</td>\n",
       "      <td>New York City Police Department</td>\n",
       "      <td>Illegal Parking</td>\n",
       "      <td>Blocked Sidewalk</td>\n",
       "      <td>Street/Sidewalk</td>\n",
       "      <td>11373.0</td>\n",
       "      <td>87-14 57 ROAD</td>\n",
       "      <td>...</td>\n",
       "      <td>NaN</td>\n",
       "      <td>NaN</td>\n",
       "      <td>NaN</td>\n",
       "      <td>NaN</td>\n",
       "      <td>NaN</td>\n",
       "      <td>NaN</td>\n",
       "      <td>NaN</td>\n",
       "      <td>40.733060</td>\n",
       "      <td>-73.874170</td>\n",
       "      <td>(40.733059618956815, -73.87416975810375)</td>\n",
       "    </tr>\n",
       "  </tbody>\n",
       "</table>\n",
       "<p>5 rows × 53 columns</p>\n",
       "</div>"
      ],
      "text/plain": [
       "   Unique Key            Created Date    Closed Date Agency  \\\n",
       "0    32310363  12/31/2015 11:59:45 PM  01-01-16 0:55   NYPD   \n",
       "1    32309934  12/31/2015 11:59:44 PM  01-01-16 1:26   NYPD   \n",
       "2    32309159  12/31/2015 11:59:29 PM  01-01-16 4:51   NYPD   \n",
       "3    32305098  12/31/2015 11:57:46 PM  01-01-16 7:43   NYPD   \n",
       "4    32306529  12/31/2015 11:56:58 PM  01-01-16 3:24   NYPD   \n",
       "\n",
       "                       Agency Name           Complaint Type  \\\n",
       "0  New York City Police Department  Noise - Street/Sidewalk   \n",
       "1  New York City Police Department         Blocked Driveway   \n",
       "2  New York City Police Department         Blocked Driveway   \n",
       "3  New York City Police Department          Illegal Parking   \n",
       "4  New York City Police Department          Illegal Parking   \n",
       "\n",
       "                     Descriptor    Location Type  Incident Zip  \\\n",
       "0              Loud Music/Party  Street/Sidewalk       10034.0   \n",
       "1                     No Access  Street/Sidewalk       11105.0   \n",
       "2                     No Access  Street/Sidewalk       10458.0   \n",
       "3  Commercial Overnight Parking  Street/Sidewalk       10461.0   \n",
       "4              Blocked Sidewalk  Street/Sidewalk       11373.0   \n",
       "\n",
       "        Incident Address  ... Bridge Highway Name Bridge Highway Direction  \\\n",
       "0    71 VERMILYEA AVENUE  ...                 NaN                      NaN   \n",
       "1        27-07 23 AVENUE  ...                 NaN                      NaN   \n",
       "2  2897 VALENTINE AVENUE  ...                 NaN                      NaN   \n",
       "3    2940 BAISLEY AVENUE  ...                 NaN                      NaN   \n",
       "4          87-14 57 ROAD  ...                 NaN                      NaN   \n",
       "\n",
       "  Road Ramp Bridge Highway Segment Garage Lot Name Ferry Direction  \\\n",
       "0       NaN                    NaN             NaN             NaN   \n",
       "1       NaN                    NaN             NaN             NaN   \n",
       "2       NaN                    NaN             NaN             NaN   \n",
       "3       NaN                    NaN             NaN             NaN   \n",
       "4       NaN                    NaN             NaN             NaN   \n",
       "\n",
       "  Ferry Terminal Name   Latitude  Longitude  \\\n",
       "0                 NaN  40.865682 -73.923501   \n",
       "1                 NaN  40.775945 -73.915094   \n",
       "2                 NaN  40.870325 -73.888525   \n",
       "3                 NaN  40.835994 -73.828379   \n",
       "4                 NaN  40.733060 -73.874170   \n",
       "\n",
       "                                   Location  \n",
       "0   (40.86568153633767, -73.92350095571744)  \n",
       "1  (40.775945312321085, -73.91509393898605)  \n",
       "2  (40.870324522111424, -73.88852464418646)  \n",
       "3   (40.83599404683083, -73.82837939584206)  \n",
       "4  (40.733059618956815, -73.87416975810375)  \n",
       "\n",
       "[5 rows x 53 columns]"
      ]
     },
     "execution_count": 5,
     "metadata": {},
     "output_type": "execute_result"
    }
   ],
   "source": [
    "nyc_df.head()"
   ]
  },
  {
   "cell_type": "code",
   "execution_count": 6,
   "metadata": {},
   "outputs": [],
   "source": [
    "# 2. Read or convert the columns ‘Created Date’ and Closed Date’ to datetime datatype\n",
    "\n",
    "nyc_df['Created Date']=pd.to_datetime(nyc_df['Created Date'])\n",
    "nyc_df['Closed Date']=pd.to_datetime(nyc_df['Closed Date'])"
   ]
  },
  {
   "cell_type": "code",
   "execution_count": 7,
   "metadata": {
    "jupyter": {
     "outputs_hidden": true
    }
   },
   "outputs": [
    {
     "data": {
      "text/plain": [
       "Unique Key                                 int64\n",
       "Created Date                      datetime64[ns]\n",
       "Closed Date                       datetime64[ns]\n",
       "Agency                                    object\n",
       "Agency Name                               object\n",
       "Complaint Type                            object\n",
       "Descriptor                                object\n",
       "Location Type                             object\n",
       "Incident Zip                             float64\n",
       "Incident Address                          object\n",
       "Street Name                               object\n",
       "Cross Street 1                            object\n",
       "Cross Street 2                            object\n",
       "Intersection Street 1                     object\n",
       "Intersection Street 2                     object\n",
       "Address Type                              object\n",
       "City                                      object\n",
       "Landmark                                  object\n",
       "Facility Type                             object\n",
       "Status                                    object\n",
       "Due Date                                  object\n",
       "Resolution Description                    object\n",
       "Resolution Action Updated Date            object\n",
       "Community Board                           object\n",
       "Borough                                   object\n",
       "X Coordinate (State Plane)               float64\n",
       "Y Coordinate (State Plane)               float64\n",
       "Park Facility Name                        object\n",
       "Park Borough                              object\n",
       "School Name                               object\n",
       "School Number                             object\n",
       "School Region                             object\n",
       "School Code                               object\n",
       "School Phone Number                       object\n",
       "School Address                            object\n",
       "School City                               object\n",
       "School State                              object\n",
       "School Zip                                object\n",
       "School Not Found                          object\n",
       "School or Citywide Complaint             float64\n",
       "Vehicle Type                             float64\n",
       "Taxi Company Borough                     float64\n",
       "Taxi Pick Up Location                    float64\n",
       "Bridge Highway Name                       object\n",
       "Bridge Highway Direction                  object\n",
       "Road Ramp                                 object\n",
       "Bridge Highway Segment                    object\n",
       "Garage Lot Name                          float64\n",
       "Ferry Direction                           object\n",
       "Ferry Terminal Name                       object\n",
       "Latitude                                 float64\n",
       "Longitude                                float64\n",
       "Location                                  object\n",
       "dtype: object"
      ]
     },
     "execution_count": 7,
     "metadata": {},
     "output_type": "execute_result"
    }
   ],
   "source": [
    "nyc_df.dtypes"
   ]
  },
  {
   "cell_type": "code",
   "execution_count": 10,
   "metadata": {
    "jupyter": {
     "outputs_hidden": true
    }
   },
   "outputs": [
    {
     "data": {
      "text/plain": [
       "Unique Key                            0\n",
       "Created Date                          0\n",
       "Closed Date                        2164\n",
       "Agency                                0\n",
       "Agency Name                           0\n",
       "Complaint Type                        0\n",
       "Descriptor                         5914\n",
       "Location Type                       131\n",
       "Incident Zip                       2615\n",
       "Incident Address                  44410\n",
       "Street Name                       44410\n",
       "Cross Street 1                    49279\n",
       "Cross Street 2                    49779\n",
       "Address Type                       2815\n",
       "City                               2614\n",
       "Facility Type                      2171\n",
       "Status                                0\n",
       "Due Date                              3\n",
       "Resolution Description                0\n",
       "Resolution Action Updated Date     2187\n",
       "Community Board                       0\n",
       "Borough                               0\n",
       "X Coordinate (State Plane)         3540\n",
       "Y Coordinate (State Plane)         3540\n",
       "Park Facility Name                    0\n",
       "Park Borough                          0\n",
       "School Name                           0\n",
       "School Number                         0\n",
       "School Region                         1\n",
       "School Code                           1\n",
       "School Phone Number                   0\n",
       "School Address                        0\n",
       "School City                           0\n",
       "School State                          0\n",
       "School Zip                            1\n",
       "School Not Found                      0\n",
       "Latitude                           3540\n",
       "Longitude                          3540\n",
       "Location                           3540\n",
       "dtype: int64"
      ]
     },
     "execution_count": 10,
     "metadata": {},
     "output_type": "execute_result"
    }
   ],
   "source": [
    "nyc_df.isna().sum()"
   ]
  },
  {
   "cell_type": "code",
   "execution_count": 11,
   "metadata": {},
   "outputs": [],
   "source": [
    "nyc_df.dropna(axis=1,thresh=100000,inplace=True)   # droping columns where more than 1Lakh values are missing"
   ]
  },
  {
   "cell_type": "code",
   "execution_count": 12,
   "metadata": {},
   "outputs": [
    {
     "data": {
      "text/plain": [
       "(300698, 39)"
      ]
     },
     "execution_count": 12,
     "metadata": {},
     "output_type": "execute_result"
    }
   ],
   "source": [
    "nyc_df.shape"
   ]
  },
  {
   "cell_type": "code",
   "execution_count": 12,
   "metadata": {},
   "outputs": [],
   "source": [
    "nyc_df.drop(['Descriptor','Incident Address','Street Name','Cross Street 1','Cross Street 2','Latitude','Longitude','Location',\n",
    "                        'X Coordinate (State Plane)','Y Coordinate (State Plane)'],axis=1,inplace=True)"
   ]
  },
  {
   "cell_type": "code",
   "execution_count": 14,
   "metadata": {},
   "outputs": [
    {
     "name": "stdout",
     "output_type": "stream",
     "text": [
      "<class 'pandas.core.frame.DataFrame'>\n",
      "RangeIndex: 300698 entries, 0 to 300697\n",
      "Data columns (total 39 columns):\n",
      " #   Column                          Non-Null Count   Dtype         \n",
      "---  ------                          --------------   -----         \n",
      " 0   Unique Key                      300698 non-null  int64         \n",
      " 1   Created Date                    300698 non-null  datetime64[ns]\n",
      " 2   Closed Date                     298534 non-null  datetime64[ns]\n",
      " 3   Agency                          300698 non-null  object        \n",
      " 4   Agency Name                     300698 non-null  object        \n",
      " 5   Complaint Type                  300698 non-null  object        \n",
      " 6   Descriptor                      294784 non-null  object        \n",
      " 7   Location Type                   300567 non-null  object        \n",
      " 8   Incident Zip                    298083 non-null  float64       \n",
      " 9   Incident Address                256288 non-null  object        \n",
      " 10  Street Name                     256288 non-null  object        \n",
      " 11  Cross Street 1                  251419 non-null  object        \n",
      " 12  Cross Street 2                  250919 non-null  object        \n",
      " 13  Address Type                    297883 non-null  object        \n",
      " 14  City                            298084 non-null  object        \n",
      " 15  Facility Type                   298527 non-null  object        \n",
      " 16  Status                          300698 non-null  object        \n",
      " 17  Due Date                        300695 non-null  object        \n",
      " 18  Resolution Description          300698 non-null  object        \n",
      " 19  Resolution Action Updated Date  298511 non-null  object        \n",
      " 20  Community Board                 300698 non-null  object        \n",
      " 21  Borough                         300698 non-null  object        \n",
      " 22  X Coordinate (State Plane)      297158 non-null  float64       \n",
      " 23  Y Coordinate (State Plane)      297158 non-null  float64       \n",
      " 24  Park Facility Name              300698 non-null  object        \n",
      " 25  Park Borough                    300698 non-null  object        \n",
      " 26  School Name                     300698 non-null  object        \n",
      " 27  School Number                   300698 non-null  object        \n",
      " 28  School Region                   300697 non-null  object        \n",
      " 29  School Code                     300697 non-null  object        \n",
      " 30  School Phone Number             300698 non-null  object        \n",
      " 31  School Address                  300698 non-null  object        \n",
      " 32  School City                     300698 non-null  object        \n",
      " 33  School State                    300698 non-null  object        \n",
      " 34  School Zip                      300697 non-null  object        \n",
      " 35  School Not Found                300698 non-null  object        \n",
      " 36  Latitude                        297158 non-null  float64       \n",
      " 37  Longitude                       297158 non-null  float64       \n",
      " 38  Location                        297158 non-null  object        \n",
      "dtypes: datetime64[ns](2), float64(5), int64(1), object(31)\n",
      "memory usage: 89.5+ MB\n"
     ]
    }
   ],
   "source": [
    "nyc_df.info()"
   ]
  },
  {
   "cell_type": "code",
   "execution_count": 15,
   "metadata": {},
   "outputs": [],
   "source": [
    "nyc_df['Location Type'].fillna(nyc_df['Location Type'].mode()[0],inplace=True)"
   ]
  },
  {
   "cell_type": "code",
   "execution_count": 16,
   "metadata": {},
   "outputs": [],
   "source": [
    "nyc_df.dropna(subset=['School Region'],inplace=True)"
   ]
  },
  {
   "cell_type": "code",
   "execution_count": 17,
   "metadata": {},
   "outputs": [],
   "source": [
    "def time_mins (rows):           # returns the time in minutes \n",
    "    t=rows[0]\n",
    "    \n",
    "    if pd.isnull(t):\n",
    "        return np.NaN\n",
    "    else:\n",
    "        return t.seconds/60"
   ]
  },
  {
   "cell_type": "code",
   "execution_count": 22,
   "metadata": {},
   "outputs": [],
   "source": [
    "# ignore the columns whose data is missing as we will not be using them for analysis"
   ]
  },
  {
   "cell_type": "code",
   "execution_count": 18,
   "metadata": {},
   "outputs": [],
   "source": [
    "# 2. create a new column ‘Request_Closing_Time’ as the time elapsed between request creation and request closing.\n",
    "nyc_df['Request Closing Time'] = nyc_df['Closed Date']-nyc_df['Created Date']\n",
    "nyc_df['Request Closing Time(in mins)'] = nyc_df[['Request Closing Time']].apply(time_mins,axis=1)"
   ]
  },
  {
   "cell_type": "code",
   "execution_count": 19,
   "metadata": {},
   "outputs": [
    {
     "data": {
      "text/plain": [
       "(300697, 41)"
      ]
     },
     "execution_count": 19,
     "metadata": {},
     "output_type": "execute_result"
    }
   ],
   "source": [
    "nyc_df.shape"
   ]
  },
  {
   "cell_type": "code",
   "execution_count": 20,
   "metadata": {},
   "outputs": [
    {
     "data": {
      "text/html": [
       "<div>\n",
       "<style scoped>\n",
       "    .dataframe tbody tr th:only-of-type {\n",
       "        vertical-align: middle;\n",
       "    }\n",
       "\n",
       "    .dataframe tbody tr th {\n",
       "        vertical-align: top;\n",
       "    }\n",
       "\n",
       "    .dataframe thead th {\n",
       "        text-align: right;\n",
       "    }\n",
       "</style>\n",
       "<table border=\"1\" class=\"dataframe\">\n",
       "  <thead>\n",
       "    <tr style=\"text-align: right;\">\n",
       "      <th></th>\n",
       "      <th>Request Closing Time</th>\n",
       "      <th>Request Closing Time(in mins)</th>\n",
       "      <th>Status</th>\n",
       "    </tr>\n",
       "  </thead>\n",
       "  <tbody>\n",
       "    <tr>\n",
       "      <th>0</th>\n",
       "      <td>0 days 00:55:15</td>\n",
       "      <td>55.250000</td>\n",
       "      <td>Closed</td>\n",
       "    </tr>\n",
       "    <tr>\n",
       "      <th>1</th>\n",
       "      <td>0 days 01:26:16</td>\n",
       "      <td>86.266667</td>\n",
       "      <td>Closed</td>\n",
       "    </tr>\n",
       "    <tr>\n",
       "      <th>2</th>\n",
       "      <td>0 days 04:51:31</td>\n",
       "      <td>291.516667</td>\n",
       "      <td>Closed</td>\n",
       "    </tr>\n",
       "    <tr>\n",
       "      <th>3</th>\n",
       "      <td>0 days 07:45:14</td>\n",
       "      <td>465.233333</td>\n",
       "      <td>Closed</td>\n",
       "    </tr>\n",
       "    <tr>\n",
       "      <th>4</th>\n",
       "      <td>0 days 03:27:02</td>\n",
       "      <td>207.033333</td>\n",
       "      <td>Closed</td>\n",
       "    </tr>\n",
       "    <tr>\n",
       "      <th>...</th>\n",
       "      <td>...</td>\n",
       "      <td>...</td>\n",
       "      <td>...</td>\n",
       "    </tr>\n",
       "    <tr>\n",
       "      <th>300693</th>\n",
       "      <td>NaT</td>\n",
       "      <td>NaN</td>\n",
       "      <td>Open</td>\n",
       "    </tr>\n",
       "    <tr>\n",
       "      <th>300694</th>\n",
       "      <td>0 days 02:00:31</td>\n",
       "      <td>120.516667</td>\n",
       "      <td>Closed</td>\n",
       "    </tr>\n",
       "    <tr>\n",
       "      <th>300695</th>\n",
       "      <td>0 days 03:07:17</td>\n",
       "      <td>187.283333</td>\n",
       "      <td>Closed</td>\n",
       "    </tr>\n",
       "    <tr>\n",
       "      <th>300696</th>\n",
       "      <td>0 days 04:05:33</td>\n",
       "      <td>245.550000</td>\n",
       "      <td>Closed</td>\n",
       "    </tr>\n",
       "    <tr>\n",
       "      <th>300697</th>\n",
       "      <td>0 days 04:08:49</td>\n",
       "      <td>248.816667</td>\n",
       "      <td>Closed</td>\n",
       "    </tr>\n",
       "  </tbody>\n",
       "</table>\n",
       "<p>300697 rows × 3 columns</p>\n",
       "</div>"
      ],
      "text/plain": [
       "       Request Closing Time  Request Closing Time(in mins)  Status\n",
       "0           0 days 00:55:15                      55.250000  Closed\n",
       "1           0 days 01:26:16                      86.266667  Closed\n",
       "2           0 days 04:51:31                     291.516667  Closed\n",
       "3           0 days 07:45:14                     465.233333  Closed\n",
       "4           0 days 03:27:02                     207.033333  Closed\n",
       "...                     ...                            ...     ...\n",
       "300693                  NaT                            NaN    Open\n",
       "300694      0 days 02:00:31                     120.516667  Closed\n",
       "300695      0 days 03:07:17                     187.283333  Closed\n",
       "300696      0 days 04:05:33                     245.550000  Closed\n",
       "300697      0 days 04:08:49                     248.816667  Closed\n",
       "\n",
       "[300697 rows x 3 columns]"
      ]
     },
     "execution_count": 20,
     "metadata": {},
     "output_type": "execute_result"
    }
   ],
   "source": [
    "nyc_df[['Request Closing Time','Request Closing Time(in mins)','Status']]\n",
    "#as we can see NaN -- open, therefore we can assume that all closing time with NaN are not closed yet"
   ]
  },
  {
   "cell_type": "code",
   "execution_count": 21,
   "metadata": {},
   "outputs": [],
   "source": [
    "\n",
    "# Provide major insights/patterns that you can offer in a visual format (graphs or tables);\n",
    "# at least 4 major conclusions that you can come up with after generic data mining."
   ]
  },
  {
   "cell_type": "code",
   "execution_count": 22,
   "metadata": {},
   "outputs": [
    {
     "data": {
      "text/plain": [
       "[Text(0, 0, 'Closed'),\n",
       " Text(1, 0, 'Open'),\n",
       " Text(2, 0, 'Assigned'),\n",
       " Text(3, 0, 'Draft')]"
      ]
     },
     "execution_count": 22,
     "metadata": {},
     "output_type": "execute_result"
    },
    {
     "data": {
      "image/png": "[encoded data removed]",
      "text/plain": [
       "<Figure size 432x288 with 1 Axes>"
      ]
     },
     "metadata": {
      "needs_background": "light"
     },
     "output_type": "display_data"
    }
   ],
   "source": [
    "plot = sns.countplot(x='Status',data=nyc_df)\n",
    "\n",
    "plot.set_xticklabels(plot.get_xticklabels(),rotation=40)"
   ]
  },
  {
   "cell_type": "raw",
   "metadata": {},
   "source": [
    "\n",
    "3.1 -- maximum complaints are resolved\n"
   ]
  },
  {
   "cell_type": "code",
   "execution_count": 24,
   "metadata": {},
   "outputs": [
    {
     "data": {
      "text/plain": [
       "array(['NYPD'], dtype=object)"
      ]
     },
     "execution_count": 24,
     "metadata": {},
     "output_type": "execute_result"
    }
   ],
   "source": [
    "nyc_df['Agency'].unique()"
   ]
  },
  {
   "cell_type": "code",
   "execution_count": 25,
   "metadata": {},
   "outputs": [
    {
     "data": {
      "text/plain": [
       "array(['New York City Police Department', 'NYPD',\n",
       "       'Internal Affairs Bureau'], dtype=object)"
      ]
     },
     "execution_count": 25,
     "metadata": {},
     "output_type": "execute_result"
    }
   ],
   "source": [
    "nyc_df['Agency Name'].unique()"
   ]
  },
  {
   "cell_type": "code",
   "execution_count": 26,
   "metadata": {},
   "outputs": [],
   "source": [
    "nyc_df['Agency Name'].replace(['NYPD'],'New York City Police Department',inplace=True)"
   ]
  },
  {
   "cell_type": "code",
   "execution_count": 27,
   "metadata": {},
   "outputs": [
    {
     "data": {
      "text/plain": [
       "array(['New York City Police Department', 'Internal Affairs Bureau'],\n",
       "      dtype=object)"
      ]
     },
     "execution_count": 27,
     "metadata": {},
     "output_type": "execute_result"
    }
   ],
   "source": [
    "nyc_df['Agency Name'].unique()"
   ]
  },
  {
   "cell_type": "code",
   "execution_count": 28,
   "metadata": {},
   "outputs": [
    {
     "data": {
      "text/plain": [
       "New York City Police Department    300691\n",
       "Internal Affairs Bureau                 6\n",
       "Name: Agency Name, dtype: int64"
      ]
     },
     "execution_count": 28,
     "metadata": {},
     "output_type": "execute_result"
    }
   ],
   "source": [
    "nyc_df['Agency Name'].value_counts()"
   ]
  },
  {
   "cell_type": "code",
   "execution_count": 29,
   "metadata": {},
   "outputs": [
    {
     "data": {
      "text/plain": [
       "[Text(0, 0, 'New York City Police Department'),\n",
       " Text(1, 0, 'Internal Affairs Bureau')]"
      ]
     },
     "execution_count": 29,
     "metadata": {},
     "output_type": "execute_result"
    },
    {
     "data": {
      "image/png": "[encoded data removed]",
      "text/plain": [
       "<Figure size 432x288 with 1 Axes>"
      ]
     },
     "metadata": {
      "needs_background": "light"
     },
     "output_type": "display_data"
    }
   ],
   "source": [
    "plot = sns.countplot(x='Agency Name',data=nyc_df)\n",
    "\n",
    "plot.set_xticklabels(plot.get_xticklabels(),rotation=40)"
   ]
  },
  {
   "cell_type": "raw",
   "metadata": {},
   "source": [
    "\n",
    "3.2 --- most of the complaints are with new york city police department, and internal affairs bureau have negligible \n"
   ]
  },
  {
   "cell_type": "code",
   "execution_count": 31,
   "metadata": {},
   "outputs": [
    {
     "data": {
      "text/plain": [
       "<AxesSubplot:>"
      ]
     },
     "execution_count": 31,
     "metadata": {},
     "output_type": "execute_result"
    },
    {
     "data": {
      "image/png": "[encoded data removed]",
      "text/plain": [
       "<Figure size 432x288 with 1 Axes>"
      ]
     },
     "metadata": {
      "needs_background": "light"
     },
     "output_type": "display_data"
    }
   ],
   "source": [
    "nyc_df['Request Closing Time(in mins)'].hist()"
   ]
  },
  {
   "cell_type": "raw",
   "metadata": {},
   "source": [
    "\n",
    "3.3 -- 1. most of the request have been resolved within 250 mins\n",
    "       2. graphs are left skewed i.e., data has high variance(more spreaded, due to outliers) and is concentrated                        in small area.\n"
   ]
  },
  {
   "cell_type": "code",
   "execution_count": 32,
   "metadata": {},
   "outputs": [
    {
     "data": {
      "text/plain": [
       "array(['Noise - Street/Sidewalk', 'Blocked Driveway', 'Illegal Parking',\n",
       "       'Derelict Vehicle', 'Noise - Commercial',\n",
       "       'Noise - House of Worship', 'Posting Advertisement',\n",
       "       'Noise - Vehicle', 'Animal Abuse', 'Vending', 'Traffic',\n",
       "       'Drinking', 'Bike/Roller/Skate Chronic', 'Panhandling',\n",
       "       'Noise - Park', 'Homeless Encampment', 'Urinating in Public',\n",
       "       'Graffiti', 'Disorderly Youth', 'Illegal Fireworks',\n",
       "       'Ferry Complaint', 'Agency Issues', 'Squeegee'], dtype=object)"
      ]
     },
     "execution_count": 32,
     "metadata": {},
     "output_type": "execute_result"
    }
   ],
   "source": [
    "nyc_df['Complaint Type'].unique()"
   ]
  },
  {
   "cell_type": "code",
   "execution_count": 33,
   "metadata": {},
   "outputs": [
    {
     "data": {
      "text/plain": [
       "Blocked Driveway             77044\n",
       "Illegal Parking              75361\n",
       "Noise - Street/Sidewalk      48612\n",
       "Noise - Commercial           35577\n",
       "Derelict Vehicle             17718\n",
       "Noise - Vehicle              17083\n",
       "Animal Abuse                  7778\n",
       "Traffic                       4498\n",
       "Homeless Encampment           4416\n",
       "Noise - Park                  4042\n",
       "Vending                       3802\n",
       "Drinking                      1280\n",
       "Noise - House of Worship       931\n",
       "Posting Advertisement          650\n",
       "Urinating in Public            592\n",
       "Bike/Roller/Skate Chronic      427\n",
       "Panhandling                    307\n",
       "Disorderly Youth               286\n",
       "Illegal Fireworks              168\n",
       "Graffiti                       113\n",
       "Agency Issues                    6\n",
       "Squeegee                         4\n",
       "Ferry Complaint                  2\n",
       "Name: Complaint Type, dtype: int64"
      ]
     },
     "execution_count": 33,
     "metadata": {},
     "output_type": "execute_result"
    }
   ],
   "source": [
    "nyc_df['Complaint Type'].value_counts()"
   ]
  },
  {
   "cell_type": "code",
   "execution_count": 40,
   "metadata": {},
   "outputs": [
    {
     "data": {
      "text/plain": [
       "[Text(0, 0, 'Noise - Street/Sidewalk'),\n",
       " Text(1, 0, 'Blocked Driveway'),\n",
       " Text(2, 0, 'Illegal Parking'),\n",
       " Text(3, 0, 'Derelict Vehicle'),\n",
       " Text(4, 0, 'Noise - Commercial'),\n",
       " Text(5, 0, 'Noise - House of Worship'),\n",
       " Text(6, 0, 'Posting Advertisement'),\n",
       " Text(7, 0, 'Noise - Vehicle'),\n",
       " Text(8, 0, 'Animal Abuse'),\n",
       " Text(9, 0, 'Vending'),\n",
       " Text(10, 0, 'Traffic'),\n",
       " Text(11, 0, 'Drinking'),\n",
       " Text(12, 0, 'Bike/Roller/Skate Chronic'),\n",
       " Text(13, 0, 'Panhandling'),\n",
       " Text(14, 0, 'Noise - Park'),\n",
       " Text(15, 0, 'Homeless Encampment'),\n",
       " Text(16, 0, 'Urinating in Public'),\n",
       " Text(17, 0, 'Graffiti'),\n",
       " Text(18, 0, 'Disorderly Youth'),\n",
       " Text(19, 0, 'Illegal Fireworks'),\n",
       " Text(20, 0, 'Ferry Complaint'),\n",
       " Text(21, 0, 'Agency Issues'),\n",
       " Text(22, 0, 'Squeegee')]"
      ]
     },
     "execution_count": 40,
     "metadata": {},
     "output_type": "execute_result"
    },
    {
     "data": {
      "image/png": "[encoded data removed]",
      "text/plain": [
       "<Figure size 432x288 with 1 Axes>"
      ]
     },
     "metadata": {
      "needs_background": "light"
     },
     "output_type": "display_data"
    }
   ],
   "source": [
    "plot = sns.countplot(x='Complaint Type',data=nyc_df)\n",
    "\n",
    "plot.set_xticklabels(plot.get_xticklabels(),rotation=90)"
   ]
  },
  {
   "cell_type": "raw",
   "metadata": {},
   "source": [
    "\n",
    "3.4 -- most of the complaints are of 6 complaint types --- 'Noise - Street/Sidewalk', 'Blocked Driveway', 'Illegal Parking','Noise - Commercial'\n"
   ]
  },
  {
   "cell_type": "code",
   "execution_count": 34,
   "metadata": {},
   "outputs": [
    {
     "data": {
      "text/plain": [
       "[Text(0, 0, 'Noise - Street/Sidewalk'),\n",
       " Text(1, 0, 'Blocked Driveway'),\n",
       " Text(2, 0, 'Illegal Parking'),\n",
       " Text(3, 0, 'Derelict Vehicle'),\n",
       " Text(4, 0, 'Noise - Commercial'),\n",
       " Text(5, 0, 'Noise - House of Worship'),\n",
       " Text(6, 0, 'Posting Advertisement'),\n",
       " Text(7, 0, 'Noise - Vehicle'),\n",
       " Text(8, 0, 'Animal Abuse'),\n",
       " Text(9, 0, 'Vending'),\n",
       " Text(10, 0, 'Traffic'),\n",
       " Text(11, 0, 'Drinking'),\n",
       " Text(12, 0, 'Bike/Roller/Skate Chronic'),\n",
       " Text(13, 0, 'Panhandling'),\n",
       " Text(14, 0, 'Noise - Park'),\n",
       " Text(15, 0, 'Homeless Encampment'),\n",
       " Text(16, 0, 'Urinating in Public'),\n",
       " Text(17, 0, 'Graffiti'),\n",
       " Text(18, 0, 'Disorderly Youth'),\n",
       " Text(19, 0, 'Illegal Fireworks'),\n",
       " Text(20, 0, 'Ferry Complaint'),\n",
       " Text(21, 0, 'Agency Issues'),\n",
       " Text(22, 0, 'Squeegee')]"
      ]
     },
     "execution_count": 34,
     "metadata": {},
     "output_type": "execute_result"
    },
    {
     "data": {
      "image/png": "[encoded data removed]",
      "text/plain": [
       "<Figure size 1440x2160 with 1 Axes>"
      ]
     },
     "metadata": {
      "needs_background": "light"
     },
     "output_type": "display_data"
    }
   ],
   "source": [
    "fig,axs = plt.subplots(figsize=(20,30))\n",
    "\n",
    "\n",
    "plot = sns.boxplot(x='Complaint Type',y='Request Closing Time(in mins)',data=nyc_df,ax=axs)\n",
    "\n",
    "plot.set_xticklabels(plot.get_xticklabels(),rotation=90)"
   ]
  },
  {
   "cell_type": "raw",
   "metadata": {},
   "source": [
    "\n",
    "3.5 -- 1. most of the complaints have been solve between 30 mins to 500 mins\n",
    "       2. 50% of complaints have been solved within 200 mins\n",
    "       3. Few complaints have higher average resolution time -- Graffiti,Derelict Vehicle, Agency Issues, Squeegee \n",
    "       4. Mostly every complaints have some outliers(i.e., taken more time to resolve than their average) except                          Agency Issues and squeegee\n"
   ]
  },
  {
   "cell_type": "code",
   "execution_count": 35,
   "metadata": {},
   "outputs": [
    {
     "data": {
      "text/plain": [
       "array(['Street/Sidewalk', 'Club/Bar/Restaurant', 'Store/Commercial',\n",
       "       'House of Worship', 'Residential Building/House',\n",
       "       'Residential Building', 'Park/Playground', 'Vacant Lot',\n",
       "       'House and Store', 'Highway', 'Commercial', 'Roadway Tunnel',\n",
       "       'Subway Station', 'Parking Lot', 'Bridge', 'Terminal', 'Ferry'],\n",
       "      dtype=object)"
      ]
     },
     "execution_count": 35,
     "metadata": {},
     "output_type": "execute_result"
    }
   ],
   "source": [
    "nyc_df['Location Type'].unique()"
   ]
  },
  {
   "cell_type": "code",
   "execution_count": 36,
   "metadata": {},
   "outputs": [
    {
     "data": {
      "text/plain": [
       "Street/Sidewalk               249430\n",
       "Store/Commercial               20381\n",
       "Club/Bar/Restaurant            17360\n",
       "Residential Building/House      6960\n",
       "Park/Playground                 4773\n",
       "House of Worship                 929\n",
       "Residential Building             227\n",
       "Highway                          215\n",
       "Parking Lot                      117\n",
       "House and Store                   93\n",
       "Vacant Lot                        77\n",
       "Commercial                        62\n",
       "Roadway Tunnel                    35\n",
       "Subway Station                    34\n",
       "Bridge                             2\n",
       "Terminal                           1\n",
       "Ferry                              1\n",
       "Name: Location Type, dtype: int64"
      ]
     },
     "execution_count": 36,
     "metadata": {},
     "output_type": "execute_result"
    }
   ],
   "source": [
    "nyc_df['Location Type'].value_counts()"
   ]
  },
  {
   "cell_type": "code",
   "execution_count": 37,
   "metadata": {},
   "outputs": [
    {
     "data": {
      "text/plain": [
       "[Text(0, 0, 'Street/Sidewalk'),\n",
       " Text(1, 0, 'Club/Bar/Restaurant'),\n",
       " Text(2, 0, 'Store/Commercial'),\n",
       " Text(3, 0, 'House of Worship'),\n",
       " Text(4, 0, 'Residential Building/House'),\n",
       " Text(5, 0, 'Residential Building'),\n",
       " Text(6, 0, 'Park/Playground'),\n",
       " Text(7, 0, 'Vacant Lot'),\n",
       " Text(8, 0, 'House and Store'),\n",
       " Text(9, 0, 'Highway'),\n",
       " Text(10, 0, 'Commercial'),\n",
       " Text(11, 0, 'Roadway Tunnel'),\n",
       " Text(12, 0, 'Subway Station'),\n",
       " Text(13, 0, 'Parking Lot'),\n",
       " Text(14, 0, 'Bridge'),\n",
       " Text(15, 0, 'Terminal'),\n",
       " Text(16, 0, 'Ferry')]"
      ]
     },
     "execution_count": 37,
     "metadata": {},
     "output_type": "execute_result"
    },
    {
     "data": {
      "image/png": "[encoded data removed]",
      "text/plain": [
       "<Figure size 432x288 with 1 Axes>"
      ]
     },
     "metadata": {
      "needs_background": "light"
     },
     "output_type": "display_data"
    }
   ],
   "source": [
    "plot = sns.countplot(x='Location Type',data=nyc_df)\n",
    "\n",
    "plot.set_xticklabels(plot.get_xticklabels(),rotation=90)"
   ]
  },
  {
   "cell_type": "raw",
   "metadata": {},
   "source": [
    "\n",
    "3.6 -- most of the complaints are from Street/Sidewalks\n"
   ]
  },
  {
   "cell_type": "code",
   "execution_count": 38,
   "metadata": {},
   "outputs": [
    {
     "data": {
      "text/plain": [
       "[Text(0, 0, 'Street/Sidewalk'),\n",
       " Text(1, 0, 'Club/Bar/Restaurant'),\n",
       " Text(2, 0, 'Store/Commercial'),\n",
       " Text(3, 0, 'House of Worship'),\n",
       " Text(4, 0, 'Residential Building/House'),\n",
       " Text(5, 0, 'Residential Building'),\n",
       " Text(6, 0, 'Park/Playground'),\n",
       " Text(7, 0, 'Vacant Lot'),\n",
       " Text(8, 0, 'House and Store'),\n",
       " Text(9, 0, 'Highway'),\n",
       " Text(10, 0, 'Commercial'),\n",
       " Text(11, 0, 'Roadway Tunnel'),\n",
       " Text(12, 0, 'Subway Station'),\n",
       " Text(13, 0, 'Parking Lot'),\n",
       " Text(14, 0, 'Bridge'),\n",
       " Text(15, 0, 'Terminal'),\n",
       " Text(16, 0, 'Ferry')]"
      ]
     },
     "execution_count": 38,
     "metadata": {},
     "output_type": "execute_result"
    },
    {
     "data": {
      "image/png": "[encoded data removed]",
      "text/plain": [
       "<Figure size 1440x2160 with 1 Axes>"
      ]
     },
     "metadata": {
      "needs_background": "light"
     },
     "output_type": "display_data"
    }
   ],
   "source": [
    "fig,axs = plt.subplots(figsize=(20,30))\n",
    "\n",
    "\n",
    "plot = sns.boxplot(x='Location Type',y='Request Closing Time(in mins)',data=nyc_df,ax=axs)\n",
    "\n",
    "plot.set_xticklabels(plot.get_xticklabels(),rotation=90)"
   ]
  },
  {
   "cell_type": "raw",
   "metadata": {},
   "source": [
    "\n",
    "3.7 -- 1. most of the complaints are resolved within 400 mins regardless of location type\n",
    "       2. average time to resolve complaints remains 200 mins regardless of location type with some exception\n",
    "       3. for some reason complaints from \"bridge\" are resolved in more time(higher average) but resolve time has                         very less varriance/ are resolved in a fixed time frame and with no visible outliers.\n",
    "       4. \"Terminal\" & \"Ferry\" have no closing time, the complaints are not closed yet.\n"
   ]
  },
  {
   "cell_type": "code",
   "execution_count": 39,
   "metadata": {},
   "outputs": [
    {
     "data": {
      "text/plain": [
       "array(['MANHATTAN', 'QUEENS', 'BRONX', 'BROOKLYN', 'Unspecified',\n",
       "       'STATEN ISLAND'], dtype=object)"
      ]
     },
     "execution_count": 39,
     "metadata": {},
     "output_type": "execute_result"
    }
   ],
   "source": [
    "nyc_df['Borough'].unique()"
   ]
  },
  {
   "cell_type": "code",
   "execution_count": 40,
   "metadata": {},
   "outputs": [
    {
     "data": {
      "text/plain": [
       "BROOKLYN         98307\n",
       "QUEENS           80641\n",
       "MANHATTAN        66131\n",
       "BRONX            40702\n",
       "STATEN ISLAND    12343\n",
       "Unspecified       2573\n",
       "Name: Borough, dtype: int64"
      ]
     },
     "execution_count": 40,
     "metadata": {},
     "output_type": "execute_result"
    }
   ],
   "source": [
    "nyc_df['Borough'].value_counts()"
   ]
  },
  {
   "cell_type": "code",
   "execution_count": 41,
   "metadata": {},
   "outputs": [
    {
     "data": {
      "text/plain": [
       "[Text(0, 0, 'MANHATTAN'),\n",
       " Text(1, 0, 'QUEENS'),\n",
       " Text(2, 0, 'BRONX'),\n",
       " Text(3, 0, 'BROOKLYN'),\n",
       " Text(4, 0, 'Unspecified'),\n",
       " Text(5, 0, 'STATEN ISLAND')]"
      ]
     },
     "execution_count": 41,
     "metadata": {},
     "output_type": "execute_result"
    },
    {
     "data": {
      "image/png": "[encoded data removed]",
      "text/plain": [
       "<Figure size 432x288 with 1 Axes>"
      ]
     },
     "metadata": {
      "needs_background": "light"
     },
     "output_type": "display_data"
    }
   ],
   "source": [
    "plot = sns.countplot(x='Borough',data=nyc_df)\n",
    "\n",
    "plot.set_xticklabels(plot.get_xticklabels(),rotation=90)"
   ]
  },
  {
   "cell_type": "raw",
   "metadata": {},
   "source": [
    "\n",
    "3.8 -- most of the complaints are from BROOKLYN, MANHATTAN and QUEENS\n"
   ]
  },
  {
   "cell_type": "code",
   "execution_count": 42,
   "metadata": {},
   "outputs": [
    {
     "data": {
      "text/plain": [
       "[Text(0, 0, 'MANHATTAN'),\n",
       " Text(1, 0, 'QUEENS'),\n",
       " Text(2, 0, 'BRONX'),\n",
       " Text(3, 0, 'BROOKLYN'),\n",
       " Text(4, 0, 'Unspecified'),\n",
       " Text(5, 0, 'STATEN ISLAND')]"
      ]
     },
     "execution_count": 42,
     "metadata": {},
     "output_type": "execute_result"
    },
    {
     "data": {
      "image/png": "[encoded data removed]",
      "text/plain": [
       "<Figure size 720x720 with 1 Axes>"
      ]
     },
     "metadata": {
      "needs_background": "light"
     },
     "output_type": "display_data"
    }
   ],
   "source": [
    "fig,axs = plt.subplots(figsize=(10,10))\n",
    "\n",
    "\n",
    "plot = sns.boxplot(x='Borough',y='Request Closing Time(in mins)',data=nyc_df,ax=axs)\n",
    "\n",
    "plot.set_xticklabels(plot.get_xticklabels(),rotation=90)"
   ]
  },
  {
   "cell_type": "raw",
   "metadata": {},
   "source": [
    "\n",
    "3.9 -- 1. complaints from BRONX has higher resolving time\n",
    "       2. the complaints which have not specified their borogh have considerably higher resolving time. \n",
    "          therefore, we can advice users to specify borough everytime they make a complaint.\n",
    "       3. complaints from all the borough are resolved within 400 mins with some exception and outliers.\n"
   ]
  },
  {
   "cell_type": "code",
   "execution_count": 50,
   "metadata": {},
   "outputs": [],
   "source": [
    "#4. Order complaint types based on average Request Closing Time, group according to Location"
   ]
  },
  {
   "cell_type": "code",
   "execution_count": 43,
   "metadata": {},
   "outputs": [],
   "source": [
    "nyc_df_Location = nyc_df.groupby(['Location Type'])['Request Closing Time(in mins)'].mean().sort_values()"
   ]
  },
  {
   "cell_type": "code",
   "execution_count": 44,
   "metadata": {},
   "outputs": [
    {
     "data": {
      "text/plain": [
       "Location Type\n",
       "Subway Station                142.250980\n",
       "Club/Bar/Restaurant           175.040488\n",
       "House of Worship              177.852697\n",
       "Roadway Tunnel                184.240000\n",
       "Store/Commercial              189.527413\n",
       "Park/Playground               198.044306\n",
       "Highway                       203.237305\n",
       "Bridge                        229.158333\n",
       "Vacant Lot                    242.721212\n",
       "Street/Sidewalk               243.393844\n",
       "Parking Lot                   258.591880\n",
       "Residential Building          263.715492\n",
       "House and Store               269.827957\n",
       "Commercial                    274.114516\n",
       "Residential Building/House    281.753629\n",
       "Ferry                                NaN\n",
       "Terminal                             NaN\n",
       "Name: Request Closing Time(in mins), dtype: float64"
      ]
     },
     "execution_count": 44,
     "metadata": {},
     "output_type": "execute_result"
    }
   ],
   "source": [
    "nyc_df_Location    # from lowest avg time to highest avg time"
   ]
  },
  {
   "cell_type": "code",
   "execution_count": 45,
   "metadata": {},
   "outputs": [],
   "source": [
    "#5. Statistical test : Hypothysis Testing"
   ]
  },
  {
   "cell_type": "raw",
   "metadata": {},
   "source": [
    "\n",
    "1.Whether the average response time across complaint types is similar or not (overall)\n",
    "\n",
    "null hypothesis H0 -- \" Average response time is not similar across complaint types \"\n",
    "alternate hypothesis H1 -- \" Average response time is similar across complaint types \"\n"
   ]
  },
  {
   "cell_type": "code",
   "execution_count": 50,
   "metadata": {},
   "outputs": [],
   "source": [
    "from scipy.stats import chi2_contingency\n",
    "from scipy.stats import chi2"
   ]
  },
  {
   "cell_type": "code",
   "execution_count": 46,
   "metadata": {},
   "outputs": [],
   "source": [
    "data_h1 = pd.DataFrame(nyc_df.groupby(['Location Type'])['Request Closing Time(in mins)'].mean())"
   ]
  },
  {
   "cell_type": "code",
   "execution_count": 47,
   "metadata": {},
   "outputs": [
    {
     "data": {
      "text/html": [
       "<div>\n",
       "<style scoped>\n",
       "    .dataframe tbody tr th:only-of-type {\n",
       "        vertical-align: middle;\n",
       "    }\n",
       "\n",
       "    .dataframe tbody tr th {\n",
       "        vertical-align: top;\n",
       "    }\n",
       "\n",
       "    .dataframe thead th {\n",
       "        text-align: right;\n",
       "    }\n",
       "</style>\n",
       "<table border=\"1\" class=\"dataframe\">\n",
       "  <thead>\n",
       "    <tr style=\"text-align: right;\">\n",
       "      <th></th>\n",
       "      <th>Request Closing Time(in mins)</th>\n",
       "    </tr>\n",
       "    <tr>\n",
       "      <th>Location Type</th>\n",
       "      <th></th>\n",
       "    </tr>\n",
       "  </thead>\n",
       "  <tbody>\n",
       "    <tr>\n",
       "      <th>Bridge</th>\n",
       "      <td>229.158333</td>\n",
       "    </tr>\n",
       "    <tr>\n",
       "      <th>Club/Bar/Restaurant</th>\n",
       "      <td>175.040488</td>\n",
       "    </tr>\n",
       "    <tr>\n",
       "      <th>Commercial</th>\n",
       "      <td>274.114516</td>\n",
       "    </tr>\n",
       "    <tr>\n",
       "      <th>Ferry</th>\n",
       "      <td>NaN</td>\n",
       "    </tr>\n",
       "    <tr>\n",
       "      <th>Highway</th>\n",
       "      <td>203.237305</td>\n",
       "    </tr>\n",
       "    <tr>\n",
       "      <th>House and Store</th>\n",
       "      <td>269.827957</td>\n",
       "    </tr>\n",
       "    <tr>\n",
       "      <th>House of Worship</th>\n",
       "      <td>177.852697</td>\n",
       "    </tr>\n",
       "    <tr>\n",
       "      <th>Park/Playground</th>\n",
       "      <td>198.044306</td>\n",
       "    </tr>\n",
       "    <tr>\n",
       "      <th>Parking Lot</th>\n",
       "      <td>258.591880</td>\n",
       "    </tr>\n",
       "    <tr>\n",
       "      <th>Residential Building</th>\n",
       "      <td>263.715492</td>\n",
       "    </tr>\n",
       "    <tr>\n",
       "      <th>Residential Building/House</th>\n",
       "      <td>281.753629</td>\n",
       "    </tr>\n",
       "    <tr>\n",
       "      <th>Roadway Tunnel</th>\n",
       "      <td>184.240000</td>\n",
       "    </tr>\n",
       "    <tr>\n",
       "      <th>Store/Commercial</th>\n",
       "      <td>189.527413</td>\n",
       "    </tr>\n",
       "    <tr>\n",
       "      <th>Street/Sidewalk</th>\n",
       "      <td>243.393844</td>\n",
       "    </tr>\n",
       "    <tr>\n",
       "      <th>Subway Station</th>\n",
       "      <td>142.250980</td>\n",
       "    </tr>\n",
       "    <tr>\n",
       "      <th>Terminal</th>\n",
       "      <td>NaN</td>\n",
       "    </tr>\n",
       "    <tr>\n",
       "      <th>Vacant Lot</th>\n",
       "      <td>242.721212</td>\n",
       "    </tr>\n",
       "  </tbody>\n",
       "</table>\n",
       "</div>"
      ],
      "text/plain": [
       "                            Request Closing Time(in mins)\n",
       "Location Type                                            \n",
       "Bridge                                         229.158333\n",
       "Club/Bar/Restaurant                            175.040488\n",
       "Commercial                                     274.114516\n",
       "Ferry                                                 NaN\n",
       "Highway                                        203.237305\n",
       "House and Store                                269.827957\n",
       "House of Worship                               177.852697\n",
       "Park/Playground                                198.044306\n",
       "Parking Lot                                    258.591880\n",
       "Residential Building                           263.715492\n",
       "Residential Building/House                     281.753629\n",
       "Roadway Tunnel                                 184.240000\n",
       "Store/Commercial                               189.527413\n",
       "Street/Sidewalk                                243.393844\n",
       "Subway Station                                 142.250980\n",
       "Terminal                                              NaN\n",
       "Vacant Lot                                     242.721212"
      ]
     },
     "execution_count": 47,
     "metadata": {},
     "output_type": "execute_result"
    }
   ],
   "source": [
    "data_h1"
   ]
  },
  {
   "cell_type": "code",
   "execution_count": 48,
   "metadata": {},
   "outputs": [],
   "source": [
    "data_h1.dropna(axis=0,inplace=True) # droped ferry and terminal, as we have assumed that complaints related to them are still open"
   ]
  },
  {
   "cell_type": "code",
   "execution_count": 51,
   "metadata": {},
   "outputs": [],
   "source": [
    "b = chi2_contingency(data_h1)"
   ]
  },
  {
   "cell_type": "code",
   "execution_count": 52,
   "metadata": {},
   "outputs": [
    {
     "data": {
      "text/plain": [
       "(0.0,\n",
       " 1.0,\n",
       " 0,\n",
       " array([[229.15833333],\n",
       "        [175.0404878 ],\n",
       "        [274.11451613],\n",
       "        [203.2373053 ],\n",
       "        [269.82795699],\n",
       "        [177.85269687],\n",
       "        [198.04430646],\n",
       "        [258.59188034],\n",
       "        [263.71549192],\n",
       "        [281.75362913],\n",
       "        [184.24      ],\n",
       "        [189.52741251],\n",
       "        [243.39384353],\n",
       "        [142.25098039],\n",
       "        [242.72121212]]))"
      ]
     },
     "execution_count": 52,
     "metadata": {},
     "output_type": "execute_result"
    }
   ],
   "source": [
    "b"
   ]
  },
  {
   "cell_type": "code",
   "execution_count": 53,
   "metadata": {},
   "outputs": [],
   "source": [
    "Statistic_Value = b[0]"
   ]
  },
  {
   "cell_type": "code",
   "execution_count": 54,
   "metadata": {},
   "outputs": [],
   "source": [
    "alpha = 0.05"
   ]
  },
  {
   "cell_type": "code",
   "execution_count": 56,
   "metadata": {},
   "outputs": [],
   "source": [
    "p_value = 1 - chi2.cdf(x=Statistic_Value,df=1)"
   ]
  },
  {
   "cell_type": "code",
   "execution_count": 57,
   "metadata": {},
   "outputs": [
    {
     "data": {
      "text/plain": [
       "1.0"
      ]
     },
     "execution_count": 57,
     "metadata": {},
     "output_type": "execute_result"
    }
   ],
   "source": [
    "p_value"
   ]
  },
  {
   "cell_type": "code",
   "execution_count": 58,
   "metadata": {},
   "outputs": [
    {
     "name": "stdout",
     "output_type": "stream",
     "text": [
      "Using p-value and the alpha value\n",
      "Accept H0 i.e., Average response time is not similar across complaint types \n"
     ]
    }
   ],
   "source": [
    "print (\"Using p-value and the alpha value\")\n",
    "\n",
    "if p_value <= alpha:\n",
    "    print(\"Reject H0 i.e., Average response time is similar across complaint types \")\n",
    "else:\n",
    "    print(\"Accept H0 i.e., Average response time is not similar across complaint types \")"
   ]
  },
  {
   "cell_type": "raw",
   "metadata": {},
   "source": [
    "\n",
    "2.Are the type of complaint or service requested and location related?\n",
    "\n",
    "null hypothesis H0 -- \" Complaint type and location are not related \"\n",
    "alternate hypothesis H1 -- \" Complaint type and location are related \"\n"
   ]
  },
  {
   "cell_type": "code",
   "execution_count": 59,
   "metadata": {},
   "outputs": [],
   "source": [
    "contigency_table = pd.crosstab(nyc_df['Complaint Type'],nyc_df['Location Type'])"
   ]
  },
  {
   "cell_type": "code",
   "execution_count": 60,
   "metadata": {},
   "outputs": [
    {
     "data": {
      "text/html": [
       "<div>\n",
       "<style scoped>\n",
       "    .dataframe tbody tr th:only-of-type {\n",
       "        vertical-align: middle;\n",
       "    }\n",
       "\n",
       "    .dataframe tbody tr th {\n",
       "        vertical-align: top;\n",
       "    }\n",
       "\n",
       "    .dataframe thead th {\n",
       "        text-align: right;\n",
       "    }\n",
       "</style>\n",
       "<table border=\"1\" class=\"dataframe\">\n",
       "  <thead>\n",
       "    <tr style=\"text-align: right;\">\n",
       "      <th>Location Type</th>\n",
       "      <th>Bridge</th>\n",
       "      <th>Club/Bar/Restaurant</th>\n",
       "      <th>Commercial</th>\n",
       "      <th>Ferry</th>\n",
       "      <th>Highway</th>\n",
       "      <th>House and Store</th>\n",
       "      <th>House of Worship</th>\n",
       "      <th>Park/Playground</th>\n",
       "      <th>Parking Lot</th>\n",
       "      <th>Residential Building</th>\n",
       "      <th>Residential Building/House</th>\n",
       "      <th>Roadway Tunnel</th>\n",
       "      <th>Store/Commercial</th>\n",
       "      <th>Street/Sidewalk</th>\n",
       "      <th>Subway Station</th>\n",
       "      <th>Terminal</th>\n",
       "      <th>Vacant Lot</th>\n",
       "    </tr>\n",
       "    <tr>\n",
       "      <th>Complaint Type</th>\n",
       "      <th></th>\n",
       "      <th></th>\n",
       "      <th></th>\n",
       "      <th></th>\n",
       "      <th></th>\n",
       "      <th></th>\n",
       "      <th></th>\n",
       "      <th></th>\n",
       "      <th></th>\n",
       "      <th></th>\n",
       "      <th></th>\n",
       "      <th></th>\n",
       "      <th></th>\n",
       "      <th></th>\n",
       "      <th></th>\n",
       "      <th></th>\n",
       "      <th></th>\n",
       "    </tr>\n",
       "  </thead>\n",
       "  <tbody>\n",
       "    <tr>\n",
       "      <th>Agency Issues</th>\n",
       "      <td>0</td>\n",
       "      <td>0</td>\n",
       "      <td>0</td>\n",
       "      <td>0</td>\n",
       "      <td>0</td>\n",
       "      <td>0</td>\n",
       "      <td>0</td>\n",
       "      <td>0</td>\n",
       "      <td>0</td>\n",
       "      <td>0</td>\n",
       "      <td>0</td>\n",
       "      <td>0</td>\n",
       "      <td>0</td>\n",
       "      <td>6</td>\n",
       "      <td>0</td>\n",
       "      <td>0</td>\n",
       "      <td>0</td>\n",
       "    </tr>\n",
       "    <tr>\n",
       "      <th>Animal Abuse</th>\n",
       "      <td>0</td>\n",
       "      <td>0</td>\n",
       "      <td>62</td>\n",
       "      <td>0</td>\n",
       "      <td>0</td>\n",
       "      <td>93</td>\n",
       "      <td>0</td>\n",
       "      <td>123</td>\n",
       "      <td>110</td>\n",
       "      <td>227</td>\n",
       "      <td>5085</td>\n",
       "      <td>0</td>\n",
       "      <td>522</td>\n",
       "      <td>1534</td>\n",
       "      <td>22</td>\n",
       "      <td>0</td>\n",
       "      <td>0</td>\n",
       "    </tr>\n",
       "    <tr>\n",
       "      <th>Bike/Roller/Skate Chronic</th>\n",
       "      <td>0</td>\n",
       "      <td>0</td>\n",
       "      <td>0</td>\n",
       "      <td>0</td>\n",
       "      <td>0</td>\n",
       "      <td>0</td>\n",
       "      <td>0</td>\n",
       "      <td>0</td>\n",
       "      <td>0</td>\n",
       "      <td>0</td>\n",
       "      <td>26</td>\n",
       "      <td>0</td>\n",
       "      <td>53</td>\n",
       "      <td>348</td>\n",
       "      <td>0</td>\n",
       "      <td>0</td>\n",
       "      <td>0</td>\n",
       "    </tr>\n",
       "    <tr>\n",
       "      <th>Blocked Driveway</th>\n",
       "      <td>0</td>\n",
       "      <td>0</td>\n",
       "      <td>0</td>\n",
       "      <td>0</td>\n",
       "      <td>0</td>\n",
       "      <td>0</td>\n",
       "      <td>0</td>\n",
       "      <td>0</td>\n",
       "      <td>0</td>\n",
       "      <td>0</td>\n",
       "      <td>0</td>\n",
       "      <td>0</td>\n",
       "      <td>0</td>\n",
       "      <td>77044</td>\n",
       "      <td>0</td>\n",
       "      <td>0</td>\n",
       "      <td>0</td>\n",
       "    </tr>\n",
       "    <tr>\n",
       "      <th>Derelict Vehicle</th>\n",
       "      <td>0</td>\n",
       "      <td>0</td>\n",
       "      <td>0</td>\n",
       "      <td>0</td>\n",
       "      <td>14</td>\n",
       "      <td>0</td>\n",
       "      <td>0</td>\n",
       "      <td>0</td>\n",
       "      <td>0</td>\n",
       "      <td>0</td>\n",
       "      <td>0</td>\n",
       "      <td>5</td>\n",
       "      <td>0</td>\n",
       "      <td>17622</td>\n",
       "      <td>0</td>\n",
       "      <td>0</td>\n",
       "      <td>77</td>\n",
       "    </tr>\n",
       "    <tr>\n",
       "      <th>Disorderly Youth</th>\n",
       "      <td>0</td>\n",
       "      <td>0</td>\n",
       "      <td>0</td>\n",
       "      <td>0</td>\n",
       "      <td>0</td>\n",
       "      <td>0</td>\n",
       "      <td>0</td>\n",
       "      <td>0</td>\n",
       "      <td>0</td>\n",
       "      <td>0</td>\n",
       "      <td>77</td>\n",
       "      <td>0</td>\n",
       "      <td>8</td>\n",
       "      <td>201</td>\n",
       "      <td>0</td>\n",
       "      <td>0</td>\n",
       "      <td>0</td>\n",
       "    </tr>\n",
       "    <tr>\n",
       "      <th>Drinking</th>\n",
       "      <td>0</td>\n",
       "      <td>366</td>\n",
       "      <td>0</td>\n",
       "      <td>0</td>\n",
       "      <td>0</td>\n",
       "      <td>0</td>\n",
       "      <td>0</td>\n",
       "      <td>98</td>\n",
       "      <td>0</td>\n",
       "      <td>0</td>\n",
       "      <td>291</td>\n",
       "      <td>0</td>\n",
       "      <td>90</td>\n",
       "      <td>435</td>\n",
       "      <td>0</td>\n",
       "      <td>0</td>\n",
       "      <td>0</td>\n",
       "    </tr>\n",
       "    <tr>\n",
       "      <th>Ferry Complaint</th>\n",
       "      <td>0</td>\n",
       "      <td>0</td>\n",
       "      <td>0</td>\n",
       "      <td>1</td>\n",
       "      <td>0</td>\n",
       "      <td>0</td>\n",
       "      <td>0</td>\n",
       "      <td>0</td>\n",
       "      <td>0</td>\n",
       "      <td>0</td>\n",
       "      <td>0</td>\n",
       "      <td>0</td>\n",
       "      <td>0</td>\n",
       "      <td>0</td>\n",
       "      <td>0</td>\n",
       "      <td>1</td>\n",
       "      <td>0</td>\n",
       "    </tr>\n",
       "    <tr>\n",
       "      <th>Graffiti</th>\n",
       "      <td>0</td>\n",
       "      <td>0</td>\n",
       "      <td>0</td>\n",
       "      <td>0</td>\n",
       "      <td>0</td>\n",
       "      <td>0</td>\n",
       "      <td>0</td>\n",
       "      <td>0</td>\n",
       "      <td>0</td>\n",
       "      <td>0</td>\n",
       "      <td>56</td>\n",
       "      <td>0</td>\n",
       "      <td>32</td>\n",
       "      <td>25</td>\n",
       "      <td>0</td>\n",
       "      <td>0</td>\n",
       "      <td>0</td>\n",
       "    </tr>\n",
       "    <tr>\n",
       "      <th>Homeless Encampment</th>\n",
       "      <td>2</td>\n",
       "      <td>0</td>\n",
       "      <td>0</td>\n",
       "      <td>0</td>\n",
       "      <td>15</td>\n",
       "      <td>0</td>\n",
       "      <td>0</td>\n",
       "      <td>353</td>\n",
       "      <td>0</td>\n",
       "      <td>0</td>\n",
       "      <td>983</td>\n",
       "      <td>1</td>\n",
       "      <td>512</td>\n",
       "      <td>2550</td>\n",
       "      <td>0</td>\n",
       "      <td>0</td>\n",
       "      <td>0</td>\n",
       "    </tr>\n",
       "    <tr>\n",
       "      <th>Illegal Fireworks</th>\n",
       "      <td>0</td>\n",
       "      <td>0</td>\n",
       "      <td>0</td>\n",
       "      <td>0</td>\n",
       "      <td>0</td>\n",
       "      <td>0</td>\n",
       "      <td>0</td>\n",
       "      <td>8</td>\n",
       "      <td>0</td>\n",
       "      <td>0</td>\n",
       "      <td>33</td>\n",
       "      <td>0</td>\n",
       "      <td>2</td>\n",
       "      <td>125</td>\n",
       "      <td>0</td>\n",
       "      <td>0</td>\n",
       "      <td>0</td>\n",
       "    </tr>\n",
       "    <tr>\n",
       "      <th>Illegal Parking</th>\n",
       "      <td>0</td>\n",
       "      <td>0</td>\n",
       "      <td>0</td>\n",
       "      <td>0</td>\n",
       "      <td>0</td>\n",
       "      <td>0</td>\n",
       "      <td>0</td>\n",
       "      <td>0</td>\n",
       "      <td>0</td>\n",
       "      <td>0</td>\n",
       "      <td>0</td>\n",
       "      <td>0</td>\n",
       "      <td>0</td>\n",
       "      <td>75361</td>\n",
       "      <td>0</td>\n",
       "      <td>0</td>\n",
       "      <td>0</td>\n",
       "    </tr>\n",
       "    <tr>\n",
       "      <th>Noise - Commercial</th>\n",
       "      <td>0</td>\n",
       "      <td>16973</td>\n",
       "      <td>0</td>\n",
       "      <td>0</td>\n",
       "      <td>0</td>\n",
       "      <td>0</td>\n",
       "      <td>0</td>\n",
       "      <td>0</td>\n",
       "      <td>0</td>\n",
       "      <td>0</td>\n",
       "      <td>0</td>\n",
       "      <td>0</td>\n",
       "      <td>18598</td>\n",
       "      <td>6</td>\n",
       "      <td>0</td>\n",
       "      <td>0</td>\n",
       "      <td>0</td>\n",
       "    </tr>\n",
       "    <tr>\n",
       "      <th>Noise - House of Worship</th>\n",
       "      <td>0</td>\n",
       "      <td>0</td>\n",
       "      <td>0</td>\n",
       "      <td>0</td>\n",
       "      <td>0</td>\n",
       "      <td>0</td>\n",
       "      <td>929</td>\n",
       "      <td>0</td>\n",
       "      <td>0</td>\n",
       "      <td>0</td>\n",
       "      <td>0</td>\n",
       "      <td>0</td>\n",
       "      <td>0</td>\n",
       "      <td>2</td>\n",
       "      <td>0</td>\n",
       "      <td>0</td>\n",
       "      <td>0</td>\n",
       "    </tr>\n",
       "    <tr>\n",
       "      <th>Noise - Park</th>\n",
       "      <td>0</td>\n",
       "      <td>0</td>\n",
       "      <td>0</td>\n",
       "      <td>0</td>\n",
       "      <td>0</td>\n",
       "      <td>0</td>\n",
       "      <td>0</td>\n",
       "      <td>4041</td>\n",
       "      <td>0</td>\n",
       "      <td>0</td>\n",
       "      <td>0</td>\n",
       "      <td>0</td>\n",
       "      <td>0</td>\n",
       "      <td>1</td>\n",
       "      <td>0</td>\n",
       "      <td>0</td>\n",
       "      <td>0</td>\n",
       "    </tr>\n",
       "    <tr>\n",
       "      <th>Noise - Street/Sidewalk</th>\n",
       "      <td>0</td>\n",
       "      <td>0</td>\n",
       "      <td>0</td>\n",
       "      <td>0</td>\n",
       "      <td>0</td>\n",
       "      <td>0</td>\n",
       "      <td>0</td>\n",
       "      <td>0</td>\n",
       "      <td>0</td>\n",
       "      <td>0</td>\n",
       "      <td>0</td>\n",
       "      <td>0</td>\n",
       "      <td>0</td>\n",
       "      <td>48612</td>\n",
       "      <td>0</td>\n",
       "      <td>0</td>\n",
       "      <td>0</td>\n",
       "    </tr>\n",
       "    <tr>\n",
       "      <th>Noise - Vehicle</th>\n",
       "      <td>0</td>\n",
       "      <td>0</td>\n",
       "      <td>0</td>\n",
       "      <td>0</td>\n",
       "      <td>0</td>\n",
       "      <td>0</td>\n",
       "      <td>0</td>\n",
       "      <td>0</td>\n",
       "      <td>0</td>\n",
       "      <td>0</td>\n",
       "      <td>0</td>\n",
       "      <td>0</td>\n",
       "      <td>0</td>\n",
       "      <td>17083</td>\n",
       "      <td>0</td>\n",
       "      <td>0</td>\n",
       "      <td>0</td>\n",
       "    </tr>\n",
       "    <tr>\n",
       "      <th>Panhandling</th>\n",
       "      <td>0</td>\n",
       "      <td>0</td>\n",
       "      <td>0</td>\n",
       "      <td>0</td>\n",
       "      <td>0</td>\n",
       "      <td>0</td>\n",
       "      <td>0</td>\n",
       "      <td>6</td>\n",
       "      <td>0</td>\n",
       "      <td>0</td>\n",
       "      <td>16</td>\n",
       "      <td>0</td>\n",
       "      <td>60</td>\n",
       "      <td>225</td>\n",
       "      <td>0</td>\n",
       "      <td>0</td>\n",
       "      <td>0</td>\n",
       "    </tr>\n",
       "    <tr>\n",
       "      <th>Posting Advertisement</th>\n",
       "      <td>0</td>\n",
       "      <td>0</td>\n",
       "      <td>0</td>\n",
       "      <td>0</td>\n",
       "      <td>0</td>\n",
       "      <td>0</td>\n",
       "      <td>0</td>\n",
       "      <td>0</td>\n",
       "      <td>7</td>\n",
       "      <td>0</td>\n",
       "      <td>54</td>\n",
       "      <td>0</td>\n",
       "      <td>6</td>\n",
       "      <td>583</td>\n",
       "      <td>0</td>\n",
       "      <td>0</td>\n",
       "      <td>0</td>\n",
       "    </tr>\n",
       "    <tr>\n",
       "      <th>Squeegee</th>\n",
       "      <td>0</td>\n",
       "      <td>0</td>\n",
       "      <td>0</td>\n",
       "      <td>0</td>\n",
       "      <td>0</td>\n",
       "      <td>0</td>\n",
       "      <td>0</td>\n",
       "      <td>0</td>\n",
       "      <td>0</td>\n",
       "      <td>0</td>\n",
       "      <td>0</td>\n",
       "      <td>0</td>\n",
       "      <td>0</td>\n",
       "      <td>4</td>\n",
       "      <td>0</td>\n",
       "      <td>0</td>\n",
       "      <td>0</td>\n",
       "    </tr>\n",
       "    <tr>\n",
       "      <th>Traffic</th>\n",
       "      <td>0</td>\n",
       "      <td>0</td>\n",
       "      <td>0</td>\n",
       "      <td>0</td>\n",
       "      <td>186</td>\n",
       "      <td>0</td>\n",
       "      <td>0</td>\n",
       "      <td>0</td>\n",
       "      <td>0</td>\n",
       "      <td>0</td>\n",
       "      <td>0</td>\n",
       "      <td>29</td>\n",
       "      <td>0</td>\n",
       "      <td>4283</td>\n",
       "      <td>0</td>\n",
       "      <td>0</td>\n",
       "      <td>0</td>\n",
       "    </tr>\n",
       "    <tr>\n",
       "      <th>Urinating in Public</th>\n",
       "      <td>0</td>\n",
       "      <td>21</td>\n",
       "      <td>0</td>\n",
       "      <td>0</td>\n",
       "      <td>0</td>\n",
       "      <td>0</td>\n",
       "      <td>0</td>\n",
       "      <td>38</td>\n",
       "      <td>0</td>\n",
       "      <td>0</td>\n",
       "      <td>138</td>\n",
       "      <td>0</td>\n",
       "      <td>66</td>\n",
       "      <td>317</td>\n",
       "      <td>12</td>\n",
       "      <td>0</td>\n",
       "      <td>0</td>\n",
       "    </tr>\n",
       "    <tr>\n",
       "      <th>Vending</th>\n",
       "      <td>0</td>\n",
       "      <td>0</td>\n",
       "      <td>0</td>\n",
       "      <td>0</td>\n",
       "      <td>0</td>\n",
       "      <td>0</td>\n",
       "      <td>0</td>\n",
       "      <td>106</td>\n",
       "      <td>0</td>\n",
       "      <td>0</td>\n",
       "      <td>201</td>\n",
       "      <td>0</td>\n",
       "      <td>432</td>\n",
       "      <td>3063</td>\n",
       "      <td>0</td>\n",
       "      <td>0</td>\n",
       "      <td>0</td>\n",
       "    </tr>\n",
       "  </tbody>\n",
       "</table>\n",
       "</div>"
      ],
      "text/plain": [
       "Location Type              Bridge  Club/Bar/Restaurant  Commercial  Ferry  \\\n",
       "Complaint Type                                                              \n",
       "Agency Issues                   0                    0           0      0   \n",
       "Animal Abuse                    0                    0          62      0   \n",
       "Bike/Roller/Skate Chronic       0                    0           0      0   \n",
       "Blocked Driveway                0                    0           0      0   \n",
       "Derelict Vehicle                0                    0           0      0   \n",
       "Disorderly Youth                0                    0           0      0   \n",
       "Drinking                        0                  366           0      0   \n",
       "Ferry Complaint                 0                    0           0      1   \n",
       "Graffiti                        0                    0           0      0   \n",
       "Homeless Encampment             2                    0           0      0   \n",
       "Illegal Fireworks               0                    0           0      0   \n",
       "Illegal Parking                 0                    0           0      0   \n",
       "Noise - Commercial              0                16973           0      0   \n",
       "Noise - House of Worship        0                    0           0      0   \n",
       "Noise - Park                    0                    0           0      0   \n",
       "Noise - Street/Sidewalk         0                    0           0      0   \n",
       "Noise - Vehicle                 0                    0           0      0   \n",
       "Panhandling                     0                    0           0      0   \n",
       "Posting Advertisement           0                    0           0      0   \n",
       "Squeegee                        0                    0           0      0   \n",
       "Traffic                         0                    0           0      0   \n",
       "Urinating in Public             0                   21           0      0   \n",
       "Vending                         0                    0           0      0   \n",
       "\n",
       "Location Type              Highway  House and Store  House of Worship  \\\n",
       "Complaint Type                                                          \n",
       "Agency Issues                    0                0                 0   \n",
       "Animal Abuse                     0               93                 0   \n",
       "Bike/Roller/Skate Chronic        0                0                 0   \n",
       "Blocked Driveway                 0                0                 0   \n",
       "Derelict Vehicle                14                0                 0   \n",
       "Disorderly Youth                 0                0                 0   \n",
       "Drinking                         0                0                 0   \n",
       "Ferry Complaint                  0                0                 0   \n",
       "Graffiti                         0                0                 0   \n",
       "Homeless Encampment             15                0                 0   \n",
       "Illegal Fireworks                0                0                 0   \n",
       "Illegal Parking                  0                0                 0   \n",
       "Noise - Commercial               0                0                 0   \n",
       "Noise - House of Worship         0                0               929   \n",
       "Noise - Park                     0                0                 0   \n",
       "Noise - Street/Sidewalk          0                0                 0   \n",
       "Noise - Vehicle                  0                0                 0   \n",
       "Panhandling                      0                0                 0   \n",
       "Posting Advertisement            0                0                 0   \n",
       "Squeegee                         0                0                 0   \n",
       "Traffic                        186                0                 0   \n",
       "Urinating in Public              0                0                 0   \n",
       "Vending                          0                0                 0   \n",
       "\n",
       "Location Type              Park/Playground  Parking Lot  Residential Building  \\\n",
       "Complaint Type                                                                  \n",
       "Agency Issues                            0            0                     0   \n",
       "Animal Abuse                           123          110                   227   \n",
       "Bike/Roller/Skate Chronic                0            0                     0   \n",
       "Blocked Driveway                         0            0                     0   \n",
       "Derelict Vehicle                         0            0                     0   \n",
       "Disorderly Youth                         0            0                     0   \n",
       "Drinking                                98            0                     0   \n",
       "Ferry Complaint                          0            0                     0   \n",
       "Graffiti                                 0            0                     0   \n",
       "Homeless Encampment                    353            0                     0   \n",
       "Illegal Fireworks                        8            0                     0   \n",
       "Illegal Parking                          0            0                     0   \n",
       "Noise - Commercial                       0            0                     0   \n",
       "Noise - House of Worship                 0            0                     0   \n",
       "Noise - Park                          4041            0                     0   \n",
       "Noise - Street/Sidewalk                  0            0                     0   \n",
       "Noise - Vehicle                          0            0                     0   \n",
       "Panhandling                              6            0                     0   \n",
       "Posting Advertisement                    0            7                     0   \n",
       "Squeegee                                 0            0                     0   \n",
       "Traffic                                  0            0                     0   \n",
       "Urinating in Public                     38            0                     0   \n",
       "Vending                                106            0                     0   \n",
       "\n",
       "Location Type              Residential Building/House  Roadway Tunnel  \\\n",
       "Complaint Type                                                          \n",
       "Agency Issues                                       0               0   \n",
       "Animal Abuse                                     5085               0   \n",
       "Bike/Roller/Skate Chronic                          26               0   \n",
       "Blocked Driveway                                    0               0   \n",
       "Derelict Vehicle                                    0               5   \n",
       "Disorderly Youth                                   77               0   \n",
       "Drinking                                          291               0   \n",
       "Ferry Complaint                                     0               0   \n",
       "Graffiti                                           56               0   \n",
       "Homeless Encampment                               983               1   \n",
       "Illegal Fireworks                                  33               0   \n",
       "Illegal Parking                                     0               0   \n",
       "Noise - Commercial                                  0               0   \n",
       "Noise - House of Worship                            0               0   \n",
       "Noise - Park                                        0               0   \n",
       "Noise - Street/Sidewalk                             0               0   \n",
       "Noise - Vehicle                                     0               0   \n",
       "Panhandling                                        16               0   \n",
       "Posting Advertisement                              54               0   \n",
       "Squeegee                                            0               0   \n",
       "Traffic                                             0              29   \n",
       "Urinating in Public                               138               0   \n",
       "Vending                                           201               0   \n",
       "\n",
       "Location Type              Store/Commercial  Street/Sidewalk  Subway Station  \\\n",
       "Complaint Type                                                                 \n",
       "Agency Issues                             0                6               0   \n",
       "Animal Abuse                            522             1534              22   \n",
       "Bike/Roller/Skate Chronic                53              348               0   \n",
       "Blocked Driveway                          0            77044               0   \n",
       "Derelict Vehicle                          0            17622               0   \n",
       "Disorderly Youth                          8              201               0   \n",
       "Drinking                                 90              435               0   \n",
       "Ferry Complaint                           0                0               0   \n",
       "Graffiti                                 32               25               0   \n",
       "Homeless Encampment                     512             2550               0   \n",
       "Illegal Fireworks                         2              125               0   \n",
       "Illegal Parking                           0            75361               0   \n",
       "Noise - Commercial                    18598                6               0   \n",
       "Noise - House of Worship                  0                2               0   \n",
       "Noise - Park                              0                1               0   \n",
       "Noise - Street/Sidewalk                   0            48612               0   \n",
       "Noise - Vehicle                           0            17083               0   \n",
       "Panhandling                              60              225               0   \n",
       "Posting Advertisement                     6              583               0   \n",
       "Squeegee                                  0                4               0   \n",
       "Traffic                                   0             4283               0   \n",
       "Urinating in Public                      66              317              12   \n",
       "Vending                                 432             3063               0   \n",
       "\n",
       "Location Type              Terminal  Vacant Lot  \n",
       "Complaint Type                                   \n",
       "Agency Issues                     0           0  \n",
       "Animal Abuse                      0           0  \n",
       "Bike/Roller/Skate Chronic         0           0  \n",
       "Blocked Driveway                  0           0  \n",
       "Derelict Vehicle                  0          77  \n",
       "Disorderly Youth                  0           0  \n",
       "Drinking                          0           0  \n",
       "Ferry Complaint                   1           0  \n",
       "Graffiti                          0           0  \n",
       "Homeless Encampment               0           0  \n",
       "Illegal Fireworks                 0           0  \n",
       "Illegal Parking                   0           0  \n",
       "Noise - Commercial                0           0  \n",
       "Noise - House of Worship          0           0  \n",
       "Noise - Park                      0           0  \n",
       "Noise - Street/Sidewalk           0           0  \n",
       "Noise - Vehicle                   0           0  \n",
       "Panhandling                       0           0  \n",
       "Posting Advertisement             0           0  \n",
       "Squeegee                          0           0  \n",
       "Traffic                           0           0  \n",
       "Urinating in Public               0           0  \n",
       "Vending                           0           0  "
      ]
     },
     "execution_count": 60,
     "metadata": {},
     "output_type": "execute_result"
    }
   ],
   "source": [
    "contigency_table"
   ]
  },
  {
   "cell_type": "code",
   "execution_count": 61,
   "metadata": {},
   "outputs": [],
   "source": [
    "b2 = chi2_contingency(contigency_table)"
   ]
  },
  {
   "cell_type": "code",
   "execution_count": 62,
   "metadata": {},
   "outputs": [
    {
     "data": {
      "text/plain": [
       "(1337534.3808757628,\n",
       " 0.0,\n",
       " 352,\n",
       " array([[3.99072821e-05, 3.46395208e-01, 1.23712574e-03, 1.99536410e-05,\n",
       "         4.29003282e-03, 1.85568862e-03, 1.85369325e-02, 9.52387287e-02,\n",
       "         2.33457600e-03, 4.52947652e-03, 1.38877342e-01, 6.98377436e-04,\n",
       "         4.06675158e-01, 4.97703668e+00, 6.78423795e-04, 1.99536410e-05,\n",
       "         1.53643036e-03],\n",
       "        [5.17331400e-02, 4.49043655e+02, 1.60372734e+00, 2.58665700e-02,\n",
       "         5.56131255e+00, 2.40559101e+00, 2.40300435e+01, 1.23461139e+02,\n",
       "         3.02638869e+00, 5.87171139e+00, 1.80031327e+02, 9.05329950e-01,\n",
       "         5.27186563e+02, 6.45189856e+03, 8.79463380e-01, 2.58665700e-02,\n",
       "         1.99172589e+00],\n",
       "        [2.84006824e-03, 2.46517923e+01, 8.80421155e-02, 1.42003412e-03,\n",
       "         3.05307336e-01, 1.32063173e-01, 1.31921170e+00, 6.77782286e+00,\n",
       "         1.66143992e-01, 3.22347745e-01, 9.88343748e+00, 4.97011942e-02,\n",
       "         2.89417154e+01, 3.54199111e+02, 4.82811601e-02, 1.42003412e-03,\n",
       "         1.09342627e-01],\n",
       "        [5.12436107e-01, 4.44794541e+03, 1.58855193e+01, 2.56218053e-01,\n",
       "         5.50868815e+01, 2.38282790e+01, 2.38026572e+02, 1.22292877e+03,\n",
       "         2.99775122e+01, 5.81614981e+01, 1.78327765e+03, 8.96763187e+00,\n",
       "         5.22198015e+03, 6.39084691e+04, 8.71141382e+00, 2.56218053e-01,\n",
       "         1.97287901e+01],\n",
       "        [1.17846204e-01, 1.02290505e+03, 3.65323232e+00, 5.89231020e-02,\n",
       "         1.26684669e+01, 5.47984849e+00, 5.47395618e+01, 2.81239966e+02,\n",
       "         6.89400293e+00, 1.33755442e+01, 4.10104790e+02, 2.06230857e+00,\n",
       "         1.20091174e+03, 1.46971893e+04, 2.00338547e+00, 5.89231020e-02,\n",
       "         4.53707885e+00],\n",
       "        [1.90224711e-03, 1.65115049e+01, 5.89696605e-02, 9.51123556e-04,\n",
       "         2.04491565e-01, 8.84544907e-02, 8.83593784e-01, 4.53971273e+00,\n",
       "         1.11281456e-01, 2.15905047e-01, 6.61981995e+00, 3.32893245e-02,\n",
       "         1.93848492e+01, 2.37238749e+02, 3.23382009e-02, 9.51123556e-04,\n",
       "         7.32365138e-02],\n",
       "        [8.51355351e-03, 7.38976445e+01, 2.63920159e-01, 4.25677676e-03,\n",
       "         9.15207002e-01, 3.95880238e-01, 3.95454561e+00, 2.03175955e+01,\n",
       "         4.98042880e-01, 9.66288323e-01, 2.96271662e+01, 1.48987186e-01,\n",
       "         8.67573671e+01, 1.06176783e+03, 1.44730410e-01, 4.25677676e-03,\n",
       "         3.27771810e-01],\n",
       "        [1.33024274e-05, 1.15465069e-01, 4.12375248e-04, 6.65121368e-06,\n",
       "         1.43001094e-03, 6.18562872e-04, 6.17897751e-03, 3.17462429e-02,\n",
       "         7.78192001e-04, 1.50982551e-03, 4.62924472e-02, 2.32792479e-04,\n",
       "         1.35558386e-01, 1.65901223e+00, 2.26141265e-04, 6.65121368e-06,\n",
       "         5.12143453e-04],\n",
       "        [7.51587146e-04, 6.52377643e+00, 2.32992015e-02, 3.75793573e-04,\n",
       "         8.07956182e-02, 3.49488023e-02, 3.49112229e-01, 1.79366272e+00,\n",
       "         4.39678480e-02, 8.53051411e-02, 2.61552327e+00, 1.31527751e-02,\n",
       "         7.65904881e+00, 9.37341909e+01, 1.27769815e-02, 3.75793573e-04,\n",
       "         2.89361051e-02],\n",
       "        [2.93717596e-02, 2.54946873e+02, 9.10524548e-01, 1.46858798e-02,\n",
       "         3.15746416e+00, 1.36578682e+00, 1.36431823e+01, 7.00957043e+01,\n",
       "         1.71824794e+00, 3.33369472e+00, 1.02213723e+02, 5.14005793e-01,\n",
       "         2.99312916e+02, 3.66309900e+03, 4.99319913e-01, 1.46858798e-02,\n",
       "         1.13081275e+00],\n",
       "        [1.11740390e-03, 9.69906584e+00, 3.46395208e-02, 5.58701949e-04,\n",
       "         1.20120919e-01, 5.19592813e-02, 5.19034111e-01, 2.66668440e+00,\n",
       "         6.53681280e-02, 1.26825342e-01, 3.88856557e+00, 1.95545682e-02,\n",
       "         1.13869044e+01, 1.39357027e+02, 1.89958663e-02, 5.58701949e-04,\n",
       "         4.30200501e-02],\n",
       "        [5.01242114e-01, 4.35078155e+03, 1.55385055e+01, 2.50621057e-01,\n",
       "         5.38835273e+01, 2.33077583e+01, 2.32826962e+02, 1.19621431e+03,\n",
       "         2.93226637e+01, 5.68909800e+01, 1.74432256e+03, 8.77173700e+00,\n",
       "         5.10790776e+03, 6.25124103e+04, 8.52111594e+00, 2.50621057e-01,\n",
       "         1.92978214e+01],\n",
       "        [2.36630229e-01, 2.05395039e+03, 7.33553710e+00, 1.18315115e-01,\n",
       "         2.54377496e+01, 1.10033057e+01, 1.09914741e+02, 5.64718042e+02,\n",
       "         1.38428684e+01, 2.68575310e+01, 8.23473197e+02, 4.14102901e+00,\n",
       "         2.41138035e+03, 2.95113390e+04, 4.02271389e+00, 1.18315115e-01,\n",
       "         9.11026382e+00],\n",
       "        [6.19227994e-03, 5.37489898e+01, 1.91960678e-01, 3.09613997e-03,\n",
       "         6.65670093e-01, 2.87941017e-01, 2.87631403e+00, 1.47778761e+01,\n",
       "         3.62248376e-01, 7.02823773e-01, 2.15491342e+01, 1.08364899e-01,\n",
       "         6.31024287e+01, 7.72270192e+02, 1.05268759e-01, 3.09613997e-03,\n",
       "         2.38402778e-01],\n",
       "        [2.68842057e-02, 2.33354905e+02, 8.33410377e-01, 1.34421028e-02,\n",
       "         2.89005211e+00, 1.25011556e+00, 1.24877135e+01, 6.41591569e+01,\n",
       "         1.57272603e+00, 3.05135735e+00, 9.35570358e+01, 4.70473600e-01,\n",
       "         2.73963498e+02, 3.35286371e+03, 4.57031497e-01, 1.34421028e-02,\n",
       "         1.03504192e+00],\n",
       "        [3.23328799e-01, 2.80649398e+03, 1.00231928e+01, 1.61664400e-01,\n",
       "         3.47578459e+01, 1.50347892e+01, 1.50186227e+02, 7.71624180e+02,\n",
       "         1.89147348e+01, 3.66978187e+01, 1.12518422e+03, 5.65825399e+00,\n",
       "         3.29488213e+03, 4.03239512e+04, 5.49658959e+00, 1.61664400e-01,\n",
       "         1.24481588e+01],\n",
       "        [1.13622683e-01, 9.86244891e+02, 3.52230318e+00, 5.68113416e-02,\n",
       "         1.22144385e+01, 5.28345477e+00, 5.27777364e+01, 2.71160534e+02,\n",
       "         6.64692697e+00, 1.28961746e+01, 3.95406938e+02, 1.98839696e+00,\n",
       "         1.15787195e+03, 1.41704529e+04, 1.93158562e+00, 5.68113416e-02,\n",
       "         4.37447331e+00],\n",
       "        [2.04192260e-03, 1.77238882e+01, 6.32996006e-02, 1.02096130e-03,\n",
       "         2.19506679e-01, 9.49494009e-02, 9.48473048e-01, 4.87304828e+00,\n",
       "         1.19452472e-01, 2.31758215e-01, 7.10589065e+00, 3.57336455e-02,\n",
       "         2.08082123e+01, 2.54658377e+02, 3.47126842e-02, 1.02096130e-03,\n",
       "         7.86140201e-02],\n",
       "        [4.32328889e-03, 3.75261476e+01, 1.34021956e-01, 2.16164445e-03,\n",
       "         4.64753556e-01, 2.01032933e-01, 2.00816769e+00, 1.03175289e+01,\n",
       "         2.52912400e-01, 4.90693289e-01, 1.50450453e+01, 7.56575556e-02,\n",
       "         4.40564755e+01, 5.39178974e+02, 7.34959112e-02, 2.16164445e-03,\n",
       "         1.66446622e-01],\n",
       "        [2.66048547e-05, 2.30930139e-01, 8.24750496e-04, 1.33024274e-05,\n",
       "         2.86002188e-03, 1.23712574e-03, 1.23579550e-02, 6.34924858e-02,\n",
       "         1.55638400e-03, 3.01965101e-03, 9.25848944e-02, 4.65584958e-04,\n",
       "         2.71116772e-01, 3.31802446e+00, 4.52282530e-04, 1.33024274e-05,\n",
       "         1.02428691e-03],\n",
       "        [2.99171591e-02, 2.59680941e+02, 9.27431933e-01, 1.49585796e-02,\n",
       "         3.21609461e+00, 1.39114790e+00, 1.38965204e+01, 7.13973003e+01,\n",
       "         1.75015381e+00, 3.39559756e+00, 1.04111714e+02, 5.23550285e-01,\n",
       "         3.04870810e+02, 3.73111850e+03, 5.08591705e-01, 1.49585796e-02,\n",
       "         1.15181063e+00],\n",
       "        [3.93751850e-03, 3.41776606e+01, 1.22063073e-01, 1.96875925e-03,\n",
       "         4.23283239e-01, 1.83094610e-01, 1.82897734e+00, 9.39688790e+00,\n",
       "         2.30344832e-01, 4.46908350e-01, 1.37025644e+01, 6.89065737e-02,\n",
       "         4.01252823e+01, 4.91067620e+02, 6.69378145e-02, 1.96875925e-03,\n",
       "         1.51594462e-01],\n",
       "        [2.52879144e-02, 2.19499097e+02, 7.83925347e-01, 1.26439572e-02,\n",
       "         2.71845080e+00, 1.17588802e+00, 1.17462362e+01, 6.03496077e+01,\n",
       "         1.47934299e+00, 2.87017829e+00, 8.80019422e+01, 4.42538502e-01,\n",
       "         2.57696492e+02, 3.15378225e+03, 4.29894545e-01, 1.26439572e-02,\n",
       "         9.73584705e-01]]))"
      ]
     },
     "execution_count": 62,
     "metadata": {},
     "output_type": "execute_result"
    }
   ],
   "source": [
    "b2"
   ]
  },
  {
   "cell_type": "code",
   "execution_count": 63,
   "metadata": {},
   "outputs": [],
   "source": [
    "Statistic_Value2 = b2[0]"
   ]
  },
  {
   "cell_type": "code",
   "execution_count": 64,
   "metadata": {},
   "outputs": [],
   "source": [
    "alpha2 = 0.05"
   ]
  },
  {
   "cell_type": "code",
   "execution_count": 65,
   "metadata": {},
   "outputs": [],
   "source": [
    "p_value2 = 1 - chi2.cdf(x=Statistic_Value2,df=2)"
   ]
  },
  {
   "cell_type": "code",
   "execution_count": 66,
   "metadata": {},
   "outputs": [
    {
     "data": {
      "text/plain": [
       "0.0"
      ]
     },
     "execution_count": 66,
     "metadata": {},
     "output_type": "execute_result"
    }
   ],
   "source": [
    "p_value2"
   ]
  },
  {
   "cell_type": "code",
   "execution_count": 67,
   "metadata": {},
   "outputs": [
    {
     "name": "stdout",
     "output_type": "stream",
     "text": [
      "Using p-value and the alpha value\n",
      "Reject H0 i.e., Complaint type and location are related \n"
     ]
    }
   ],
   "source": [
    "print (\"Using p-value and the alpha value\")\n",
    "\n",
    "if p_value2 <= alpha2:\n",
    "    print(\"Reject H0 i.e., Complaint type and location are related \")\n",
    "else:\n",
    "    print(\"Accept H0 i.e., Complaint type and location are not related \")"
   ]
  },
  {
   "cell_type": "code",
   "execution_count": null,
   "metadata": {},
   "outputs": [],
   "source": []
  }
 ],
 "metadata": {
  "kernelspec": {
   "display_name": "Python 3",
   "language": "python",
   "name": "python3"
  },
  "language_info": {
   "codemirror_mode": {
    "name": "ipython",
    "version": 3
   },
   "file_extension": ".py",
   "mimetype": "text/x-python",
   "name": "python",
   "nbconvert_exporter": "python",
   "pygments_lexer": "ipython3",
   "version": "3.8.5"
  }
 },
 "nbformat": 4,
 "nbformat_minor": 4
}
